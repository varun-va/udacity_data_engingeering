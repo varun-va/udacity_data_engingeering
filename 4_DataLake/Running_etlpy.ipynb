{
 "cells": [
  {
   "cell_type": "code",
   "execution_count": 34,
   "metadata": {
    "editable": true
   },
   "outputs": [],
   "source": [
    "#rm -rf results* spark-warehouse"
   ]
  },
  {
   "cell_type": "code",
   "execution_count": 35,
   "metadata": {
    "editable": true
   },
   "outputs": [
    {
     "name": "stdout",
     "output_type": "stream",
     "text": [
      "--- Starting Process Song_Data ---\n",
      "(1/2) | songs.parquet completed\n",
      "(2/2) | artists.parquet completed\n",
      "--- Completed Process Song_Data ---\n",
      "\n",
      "\n",
      "--- Starting Process Log_Data ---\n",
      "(1/3) | users.parquet completed\n",
      "(2/3) | time.parquet completed \n",
      "(3/3) | songplays.parquet completed\n",
      "--- Completed Process Log_Data ---\n"
     ]
    }
   ],
   "source": [
    "%run etl.py"
   ]
  },
  {
   "cell_type": "code",
   "execution_count": null,
   "metadata": {
    "editable": true
   },
   "outputs": [],
   "source": []
  }
 ],
 "metadata": {
  "kernelspec": {
   "display_name": "Python 3",
   "language": "python",
   "name": "python3"
  },
  "language_info": {
   "codemirror_mode": {
    "name": "ipython",
    "version": 3
   },
   "file_extension": ".py",
   "mimetype": "text/x-python",
   "name": "python",
   "nbconvert_exporter": "python",
   "pygments_lexer": "ipython3",
   "version": "3.6.3"
  }
 },
 "nbformat": 4,
 "nbformat_minor": 4
}
