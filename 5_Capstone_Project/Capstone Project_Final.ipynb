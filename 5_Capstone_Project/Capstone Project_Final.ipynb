{
 "cells": [
  {
   "cell_type": "markdown",
   "metadata": {
    "editable": true
   },
   "source": [
    "# Project Title\n",
    "### Data Engineering Capstone Project\n",
    "\n",
    "#### Project Summary\n",
    "--describe your project at a high level--\n",
    "\n",
    "The project follows the follow steps:\n",
    "* Step 1: Scope the Project and Gather Data\n",
    "* Step 2: Explore and Assess the Data\n",
    "* Step 3: Define the Data Model\n",
    "* Step 4: Run ETL to Model the Data\n",
    "* Step 5: Complete Project Write Up"
   ]
  },
  {
   "cell_type": "code",
   "execution_count": 1,
   "metadata": {
    "editable": true
   },
   "outputs": [],
   "source": [
    "# Do all imports and installs here\n",
    "import pandas as pd\n",
    "import psycopg2\n",
    "from sql_queries import airport_insert, demographic_insert, immigration_insert, temperature_insert"
   ]
  },
  {
   "cell_type": "markdown",
   "metadata": {
    "editable": true
   },
   "source": [
    "### Step 1: Scope the Project and Gather Data\n",
    "\n",
    "#### Scope \n",
    "This projects aims to enrich the US I94 immigration data with further data such as demographics and temperature data to have a wider basis for analysis on the immigration data."
   ]
  },
  {
   "cell_type": "markdown",
   "metadata": {
    "editable": true
   },
   "source": [
    "#### 1.1. I94 Immigration Data"
   ]
  },
  {
   "cell_type": "markdown",
   "metadata": {
    "editable": true
   },
   "source": [
    "This data comes from the US National Tourism and Trade Office. A data dictionary is included in the workspace. This is where the data comes from. There's a sample file so you can take a look at the data in csv format before reading it all in. You do not have to use the entire dataset, just use what you need to accomplish the goal you set at the beginning of the project."
   ]
  },
  {
   "cell_type": "code",
   "execution_count": 2,
   "metadata": {
    "editable": true
   },
   "outputs": [
    {
     "data": {
      "text/html": [
       "<div>\n",
       "<style scoped>\n",
       "    .dataframe tbody tr th:only-of-type {\n",
       "        vertical-align: middle;\n",
       "    }\n",
       "\n",
       "    .dataframe tbody tr th {\n",
       "        vertical-align: top;\n",
       "    }\n",
       "\n",
       "    .dataframe thead th {\n",
       "        text-align: right;\n",
       "    }\n",
       "</style>\n",
       "<table border=\"1\" class=\"dataframe\">\n",
       "  <thead>\n",
       "    <tr style=\"text-align: right;\">\n",
       "      <th></th>\n",
       "      <th>cicid</th>\n",
       "      <th>i94yr</th>\n",
       "      <th>i94mon</th>\n",
       "      <th>i94cit</th>\n",
       "      <th>i94res</th>\n",
       "      <th>i94port</th>\n",
       "      <th>arrdate</th>\n",
       "      <th>i94mode</th>\n",
       "      <th>i94addr</th>\n",
       "      <th>depdate</th>\n",
       "      <th>...</th>\n",
       "      <th>entdepu</th>\n",
       "      <th>matflag</th>\n",
       "      <th>biryear</th>\n",
       "      <th>dtaddto</th>\n",
       "      <th>gender</th>\n",
       "      <th>insnum</th>\n",
       "      <th>airline</th>\n",
       "      <th>admnum</th>\n",
       "      <th>fltno</th>\n",
       "      <th>visatype</th>\n",
       "    </tr>\n",
       "  </thead>\n",
       "  <tbody>\n",
       "    <tr>\n",
       "      <th>0</th>\n",
       "      <td>6.0</td>\n",
       "      <td>2016.0</td>\n",
       "      <td>4.0</td>\n",
       "      <td>692.0</td>\n",
       "      <td>692.0</td>\n",
       "      <td>XXX</td>\n",
       "      <td>20573.0</td>\n",
       "      <td>NaN</td>\n",
       "      <td>NaN</td>\n",
       "      <td>NaN</td>\n",
       "      <td>...</td>\n",
       "      <td>U</td>\n",
       "      <td>NaN</td>\n",
       "      <td>1979.0</td>\n",
       "      <td>10282016</td>\n",
       "      <td>NaN</td>\n",
       "      <td>NaN</td>\n",
       "      <td>NaN</td>\n",
       "      <td>1.897628e+09</td>\n",
       "      <td>NaN</td>\n",
       "      <td>B2</td>\n",
       "    </tr>\n",
       "    <tr>\n",
       "      <th>1</th>\n",
       "      <td>7.0</td>\n",
       "      <td>2016.0</td>\n",
       "      <td>4.0</td>\n",
       "      <td>254.0</td>\n",
       "      <td>276.0</td>\n",
       "      <td>ATL</td>\n",
       "      <td>20551.0</td>\n",
       "      <td>1.0</td>\n",
       "      <td>AL</td>\n",
       "      <td>NaN</td>\n",
       "      <td>...</td>\n",
       "      <td>Y</td>\n",
       "      <td>NaN</td>\n",
       "      <td>1991.0</td>\n",
       "      <td>D/S</td>\n",
       "      <td>M</td>\n",
       "      <td>NaN</td>\n",
       "      <td>NaN</td>\n",
       "      <td>3.736796e+09</td>\n",
       "      <td>00296</td>\n",
       "      <td>F1</td>\n",
       "    </tr>\n",
       "    <tr>\n",
       "      <th>2</th>\n",
       "      <td>15.0</td>\n",
       "      <td>2016.0</td>\n",
       "      <td>4.0</td>\n",
       "      <td>101.0</td>\n",
       "      <td>101.0</td>\n",
       "      <td>WAS</td>\n",
       "      <td>20545.0</td>\n",
       "      <td>1.0</td>\n",
       "      <td>MI</td>\n",
       "      <td>20691.0</td>\n",
       "      <td>...</td>\n",
       "      <td>NaN</td>\n",
       "      <td>M</td>\n",
       "      <td>1961.0</td>\n",
       "      <td>09302016</td>\n",
       "      <td>M</td>\n",
       "      <td>NaN</td>\n",
       "      <td>OS</td>\n",
       "      <td>6.666432e+08</td>\n",
       "      <td>93</td>\n",
       "      <td>B2</td>\n",
       "    </tr>\n",
       "    <tr>\n",
       "      <th>3</th>\n",
       "      <td>16.0</td>\n",
       "      <td>2016.0</td>\n",
       "      <td>4.0</td>\n",
       "      <td>101.0</td>\n",
       "      <td>101.0</td>\n",
       "      <td>NYC</td>\n",
       "      <td>20545.0</td>\n",
       "      <td>1.0</td>\n",
       "      <td>MA</td>\n",
       "      <td>20567.0</td>\n",
       "      <td>...</td>\n",
       "      <td>NaN</td>\n",
       "      <td>M</td>\n",
       "      <td>1988.0</td>\n",
       "      <td>09302016</td>\n",
       "      <td>NaN</td>\n",
       "      <td>NaN</td>\n",
       "      <td>AA</td>\n",
       "      <td>9.246846e+10</td>\n",
       "      <td>00199</td>\n",
       "      <td>B2</td>\n",
       "    </tr>\n",
       "    <tr>\n",
       "      <th>4</th>\n",
       "      <td>17.0</td>\n",
       "      <td>2016.0</td>\n",
       "      <td>4.0</td>\n",
       "      <td>101.0</td>\n",
       "      <td>101.0</td>\n",
       "      <td>NYC</td>\n",
       "      <td>20545.0</td>\n",
       "      <td>1.0</td>\n",
       "      <td>MA</td>\n",
       "      <td>20567.0</td>\n",
       "      <td>...</td>\n",
       "      <td>NaN</td>\n",
       "      <td>M</td>\n",
       "      <td>2012.0</td>\n",
       "      <td>09302016</td>\n",
       "      <td>NaN</td>\n",
       "      <td>NaN</td>\n",
       "      <td>AA</td>\n",
       "      <td>9.246846e+10</td>\n",
       "      <td>00199</td>\n",
       "      <td>B2</td>\n",
       "    </tr>\n",
       "  </tbody>\n",
       "</table>\n",
       "<p>5 rows × 28 columns</p>\n",
       "</div>"
      ],
      "text/plain": [
       "   cicid   i94yr  i94mon  i94cit  i94res i94port  arrdate  i94mode i94addr  \\\n",
       "0    6.0  2016.0     4.0   692.0   692.0     XXX  20573.0      NaN     NaN   \n",
       "1    7.0  2016.0     4.0   254.0   276.0     ATL  20551.0      1.0      AL   \n",
       "2   15.0  2016.0     4.0   101.0   101.0     WAS  20545.0      1.0      MI   \n",
       "3   16.0  2016.0     4.0   101.0   101.0     NYC  20545.0      1.0      MA   \n",
       "4   17.0  2016.0     4.0   101.0   101.0     NYC  20545.0      1.0      MA   \n",
       "\n",
       "   depdate   ...     entdepu  matflag  biryear   dtaddto gender insnum  \\\n",
       "0      NaN   ...           U      NaN   1979.0  10282016    NaN    NaN   \n",
       "1      NaN   ...           Y      NaN   1991.0       D/S      M    NaN   \n",
       "2  20691.0   ...         NaN        M   1961.0  09302016      M    NaN   \n",
       "3  20567.0   ...         NaN        M   1988.0  09302016    NaN    NaN   \n",
       "4  20567.0   ...         NaN        M   2012.0  09302016    NaN    NaN   \n",
       "\n",
       "  airline        admnum  fltno visatype  \n",
       "0     NaN  1.897628e+09    NaN       B2  \n",
       "1     NaN  3.736796e+09  00296       F1  \n",
       "2      OS  6.666432e+08     93       B2  \n",
       "3      AA  9.246846e+10  00199       B2  \n",
       "4      AA  9.246846e+10  00199       B2  \n",
       "\n",
       "[5 rows x 28 columns]"
      ]
     },
     "execution_count": 2,
     "metadata": {},
     "output_type": "execute_result"
    }
   ],
   "source": [
    "# Read in the data here\n",
    "i94_path = '../../data/18-83510-I94-Data-2016/i94_apr16_sub.sas7bdat'\n",
    "df_i94 = pd.read_sas(i94_path, 'sas7bdat', encoding=\"ISO-8859-1\")\n",
    "df_i94.head(5)"
   ]
  },
  {
   "cell_type": "markdown",
   "metadata": {
    "editable": true
   },
   "source": [
    "#### 1.2. World Temperature Data"
   ]
  },
  {
   "cell_type": "markdown",
   "metadata": {
    "editable": true
   },
   "source": [
    "This dataset came from Kaggle."
   ]
  },
  {
   "cell_type": "code",
   "execution_count": 3,
   "metadata": {
    "editable": true
   },
   "outputs": [
    {
     "data": {
      "text/html": [
       "<div>\n",
       "<style scoped>\n",
       "    .dataframe tbody tr th:only-of-type {\n",
       "        vertical-align: middle;\n",
       "    }\n",
       "\n",
       "    .dataframe tbody tr th {\n",
       "        vertical-align: top;\n",
       "    }\n",
       "\n",
       "    .dataframe thead th {\n",
       "        text-align: right;\n",
       "    }\n",
       "</style>\n",
       "<table border=\"1\" class=\"dataframe\">\n",
       "  <thead>\n",
       "    <tr style=\"text-align: right;\">\n",
       "      <th></th>\n",
       "      <th>dt</th>\n",
       "      <th>AverageTemperature</th>\n",
       "      <th>AverageTemperatureUncertainty</th>\n",
       "      <th>City</th>\n",
       "      <th>Country</th>\n",
       "      <th>Latitude</th>\n",
       "      <th>Longitude</th>\n",
       "    </tr>\n",
       "  </thead>\n",
       "  <tbody>\n",
       "    <tr>\n",
       "      <th>0</th>\n",
       "      <td>1743-11-01</td>\n",
       "      <td>6.068</td>\n",
       "      <td>1.737</td>\n",
       "      <td>Århus</td>\n",
       "      <td>Denmark</td>\n",
       "      <td>57.05N</td>\n",
       "      <td>10.33E</td>\n",
       "    </tr>\n",
       "    <tr>\n",
       "      <th>1</th>\n",
       "      <td>1743-12-01</td>\n",
       "      <td>NaN</td>\n",
       "      <td>NaN</td>\n",
       "      <td>Århus</td>\n",
       "      <td>Denmark</td>\n",
       "      <td>57.05N</td>\n",
       "      <td>10.33E</td>\n",
       "    </tr>\n",
       "    <tr>\n",
       "      <th>2</th>\n",
       "      <td>1744-01-01</td>\n",
       "      <td>NaN</td>\n",
       "      <td>NaN</td>\n",
       "      <td>Århus</td>\n",
       "      <td>Denmark</td>\n",
       "      <td>57.05N</td>\n",
       "      <td>10.33E</td>\n",
       "    </tr>\n",
       "    <tr>\n",
       "      <th>3</th>\n",
       "      <td>1744-02-01</td>\n",
       "      <td>NaN</td>\n",
       "      <td>NaN</td>\n",
       "      <td>Århus</td>\n",
       "      <td>Denmark</td>\n",
       "      <td>57.05N</td>\n",
       "      <td>10.33E</td>\n",
       "    </tr>\n",
       "    <tr>\n",
       "      <th>4</th>\n",
       "      <td>1744-03-01</td>\n",
       "      <td>NaN</td>\n",
       "      <td>NaN</td>\n",
       "      <td>Århus</td>\n",
       "      <td>Denmark</td>\n",
       "      <td>57.05N</td>\n",
       "      <td>10.33E</td>\n",
       "    </tr>\n",
       "  </tbody>\n",
       "</table>\n",
       "</div>"
      ],
      "text/plain": [
       "           dt  AverageTemperature  AverageTemperatureUncertainty   City  \\\n",
       "0  1743-11-01               6.068                          1.737  Århus   \n",
       "1  1743-12-01                 NaN                            NaN  Århus   \n",
       "2  1744-01-01                 NaN                            NaN  Århus   \n",
       "3  1744-02-01                 NaN                            NaN  Århus   \n",
       "4  1744-03-01                 NaN                            NaN  Århus   \n",
       "\n",
       "   Country Latitude Longitude  \n",
       "0  Denmark   57.05N    10.33E  \n",
       "1  Denmark   57.05N    10.33E  \n",
       "2  Denmark   57.05N    10.33E  \n",
       "3  Denmark   57.05N    10.33E  \n",
       "4  Denmark   57.05N    10.33E  "
      ]
     },
     "execution_count": 3,
     "metadata": {},
     "output_type": "execute_result"
    }
   ],
   "source": [
    "fname = '../../data2/GlobalLandTemperaturesByCity.csv'\n",
    "df_temp = pd.read_csv(fname)\n",
    "df_temp.head(5)"
   ]
  },
  {
   "cell_type": "code",
   "execution_count": 153,
   "metadata": {
    "editable": true
   },
   "outputs": [],
   "source": [
    "# find all unique country codes in temperature data to find used name for United States \n",
    "#set(df_temp[\"Country\"].values)"
   ]
  },
  {
   "cell_type": "code",
   "execution_count": 4,
   "metadata": {
    "editable": true
   },
   "outputs": [
    {
     "data": {
      "text/html": [
       "<div>\n",
       "<style scoped>\n",
       "    .dataframe tbody tr th:only-of-type {\n",
       "        vertical-align: middle;\n",
       "    }\n",
       "\n",
       "    .dataframe tbody tr th {\n",
       "        vertical-align: top;\n",
       "    }\n",
       "\n",
       "    .dataframe thead th {\n",
       "        text-align: right;\n",
       "    }\n",
       "</style>\n",
       "<table border=\"1\" class=\"dataframe\">\n",
       "  <thead>\n",
       "    <tr style=\"text-align: right;\">\n",
       "      <th></th>\n",
       "      <th>dt</th>\n",
       "      <th>AverageTemperature</th>\n",
       "      <th>AverageTemperatureUncertainty</th>\n",
       "      <th>City</th>\n",
       "      <th>Country</th>\n",
       "      <th>Latitude</th>\n",
       "      <th>Longitude</th>\n",
       "    </tr>\n",
       "  </thead>\n",
       "  <tbody>\n",
       "    <tr>\n",
       "      <th>47555</th>\n",
       "      <td>1820-01-01</td>\n",
       "      <td>2.101</td>\n",
       "      <td>3.217</td>\n",
       "      <td>Abilene</td>\n",
       "      <td>United States</td>\n",
       "      <td>32.95N</td>\n",
       "      <td>100.53W</td>\n",
       "    </tr>\n",
       "    <tr>\n",
       "      <th>47556</th>\n",
       "      <td>1820-02-01</td>\n",
       "      <td>6.926</td>\n",
       "      <td>2.853</td>\n",
       "      <td>Abilene</td>\n",
       "      <td>United States</td>\n",
       "      <td>32.95N</td>\n",
       "      <td>100.53W</td>\n",
       "    </tr>\n",
       "    <tr>\n",
       "      <th>47557</th>\n",
       "      <td>1820-03-01</td>\n",
       "      <td>10.767</td>\n",
       "      <td>2.395</td>\n",
       "      <td>Abilene</td>\n",
       "      <td>United States</td>\n",
       "      <td>32.95N</td>\n",
       "      <td>100.53W</td>\n",
       "    </tr>\n",
       "    <tr>\n",
       "      <th>47558</th>\n",
       "      <td>1820-04-01</td>\n",
       "      <td>17.989</td>\n",
       "      <td>2.202</td>\n",
       "      <td>Abilene</td>\n",
       "      <td>United States</td>\n",
       "      <td>32.95N</td>\n",
       "      <td>100.53W</td>\n",
       "    </tr>\n",
       "    <tr>\n",
       "      <th>47559</th>\n",
       "      <td>1820-05-01</td>\n",
       "      <td>21.809</td>\n",
       "      <td>2.036</td>\n",
       "      <td>Abilene</td>\n",
       "      <td>United States</td>\n",
       "      <td>32.95N</td>\n",
       "      <td>100.53W</td>\n",
       "    </tr>\n",
       "  </tbody>\n",
       "</table>\n",
       "</div>"
      ],
      "text/plain": [
       "               dt  AverageTemperature  AverageTemperatureUncertainty     City  \\\n",
       "47555  1820-01-01               2.101                          3.217  Abilene   \n",
       "47556  1820-02-01               6.926                          2.853  Abilene   \n",
       "47557  1820-03-01              10.767                          2.395  Abilene   \n",
       "47558  1820-04-01              17.989                          2.202  Abilene   \n",
       "47559  1820-05-01              21.809                          2.036  Abilene   \n",
       "\n",
       "             Country Latitude Longitude  \n",
       "47555  United States   32.95N   100.53W  \n",
       "47556  United States   32.95N   100.53W  \n",
       "47557  United States   32.95N   100.53W  \n",
       "47558  United States   32.95N   100.53W  \n",
       "47559  United States   32.95N   100.53W  "
      ]
     },
     "execution_count": 4,
     "metadata": {},
     "output_type": "execute_result"
    }
   ],
   "source": [
    "# Get the data for United States\n",
    "\n",
    "df_temp_us = df_temp[df_temp[\"Country\"] == \"United States\"]\n",
    "df_temp_us.head()"
   ]
  },
  {
   "cell_type": "code",
   "execution_count": 13,
   "metadata": {
    "editable": true
   },
   "outputs": [],
   "source": []
  },
  {
   "cell_type": "markdown",
   "metadata": {
    "editable": true
   },
   "source": [
    "#### 1.3. U.S. City Demographic Data"
   ]
  },
  {
   "cell_type": "markdown",
   "metadata": {
    "editable": true
   },
   "source": [
    "This data comes from OpenSoft."
   ]
  },
  {
   "cell_type": "code",
   "execution_count": 5,
   "metadata": {
    "editable": true
   },
   "outputs": [
    {
     "data": {
      "text/html": [
       "<div>\n",
       "<style scoped>\n",
       "    .dataframe tbody tr th:only-of-type {\n",
       "        vertical-align: middle;\n",
       "    }\n",
       "\n",
       "    .dataframe tbody tr th {\n",
       "        vertical-align: top;\n",
       "    }\n",
       "\n",
       "    .dataframe thead th {\n",
       "        text-align: right;\n",
       "    }\n",
       "</style>\n",
       "<table border=\"1\" class=\"dataframe\">\n",
       "  <thead>\n",
       "    <tr style=\"text-align: right;\">\n",
       "      <th></th>\n",
       "      <th>City</th>\n",
       "      <th>State</th>\n",
       "      <th>Median Age</th>\n",
       "      <th>Male Population</th>\n",
       "      <th>Female Population</th>\n",
       "      <th>Total Population</th>\n",
       "      <th>Number of Veterans</th>\n",
       "      <th>Foreign-born</th>\n",
       "      <th>Average Household Size</th>\n",
       "      <th>State Code</th>\n",
       "      <th>Race</th>\n",
       "      <th>Count</th>\n",
       "    </tr>\n",
       "  </thead>\n",
       "  <tbody>\n",
       "    <tr>\n",
       "      <th>0</th>\n",
       "      <td>Silver Spring</td>\n",
       "      <td>Maryland</td>\n",
       "      <td>33.8</td>\n",
       "      <td>40601.0</td>\n",
       "      <td>41862.0</td>\n",
       "      <td>82463</td>\n",
       "      <td>1562.0</td>\n",
       "      <td>30908.0</td>\n",
       "      <td>2.60</td>\n",
       "      <td>MD</td>\n",
       "      <td>Hispanic or Latino</td>\n",
       "      <td>25924</td>\n",
       "    </tr>\n",
       "    <tr>\n",
       "      <th>1</th>\n",
       "      <td>Quincy</td>\n",
       "      <td>Massachusetts</td>\n",
       "      <td>41.0</td>\n",
       "      <td>44129.0</td>\n",
       "      <td>49500.0</td>\n",
       "      <td>93629</td>\n",
       "      <td>4147.0</td>\n",
       "      <td>32935.0</td>\n",
       "      <td>2.39</td>\n",
       "      <td>MA</td>\n",
       "      <td>White</td>\n",
       "      <td>58723</td>\n",
       "    </tr>\n",
       "    <tr>\n",
       "      <th>2</th>\n",
       "      <td>Hoover</td>\n",
       "      <td>Alabama</td>\n",
       "      <td>38.5</td>\n",
       "      <td>38040.0</td>\n",
       "      <td>46799.0</td>\n",
       "      <td>84839</td>\n",
       "      <td>4819.0</td>\n",
       "      <td>8229.0</td>\n",
       "      <td>2.58</td>\n",
       "      <td>AL</td>\n",
       "      <td>Asian</td>\n",
       "      <td>4759</td>\n",
       "    </tr>\n",
       "    <tr>\n",
       "      <th>3</th>\n",
       "      <td>Rancho Cucamonga</td>\n",
       "      <td>California</td>\n",
       "      <td>34.5</td>\n",
       "      <td>88127.0</td>\n",
       "      <td>87105.0</td>\n",
       "      <td>175232</td>\n",
       "      <td>5821.0</td>\n",
       "      <td>33878.0</td>\n",
       "      <td>3.18</td>\n",
       "      <td>CA</td>\n",
       "      <td>Black or African-American</td>\n",
       "      <td>24437</td>\n",
       "    </tr>\n",
       "    <tr>\n",
       "      <th>4</th>\n",
       "      <td>Newark</td>\n",
       "      <td>New Jersey</td>\n",
       "      <td>34.6</td>\n",
       "      <td>138040.0</td>\n",
       "      <td>143873.0</td>\n",
       "      <td>281913</td>\n",
       "      <td>5829.0</td>\n",
       "      <td>86253.0</td>\n",
       "      <td>2.73</td>\n",
       "      <td>NJ</td>\n",
       "      <td>White</td>\n",
       "      <td>76402</td>\n",
       "    </tr>\n",
       "  </tbody>\n",
       "</table>\n",
       "</div>"
      ],
      "text/plain": [
       "               City          State  Median Age  Male Population  \\\n",
       "0     Silver Spring       Maryland        33.8          40601.0   \n",
       "1            Quincy  Massachusetts        41.0          44129.0   \n",
       "2            Hoover        Alabama        38.5          38040.0   \n",
       "3  Rancho Cucamonga     California        34.5          88127.0   \n",
       "4            Newark     New Jersey        34.6         138040.0   \n",
       "\n",
       "   Female Population  Total Population  Number of Veterans  Foreign-born  \\\n",
       "0            41862.0             82463              1562.0       30908.0   \n",
       "1            49500.0             93629              4147.0       32935.0   \n",
       "2            46799.0             84839              4819.0        8229.0   \n",
       "3            87105.0            175232              5821.0       33878.0   \n",
       "4           143873.0            281913              5829.0       86253.0   \n",
       "\n",
       "   Average Household Size State Code                       Race  Count  \n",
       "0                    2.60         MD         Hispanic or Latino  25924  \n",
       "1                    2.39         MA                      White  58723  \n",
       "2                    2.58         AL                      Asian   4759  \n",
       "3                    3.18         CA  Black or African-American  24437  \n",
       "4                    2.73         NJ                      White  76402  "
      ]
     },
     "execution_count": 5,
     "metadata": {},
     "output_type": "execute_result"
    }
   ],
   "source": [
    "df_demographics = pd.read_csv(\"data/us-cities-demographics.csv\", delimiter=\";\")\n",
    "df_demographics.head(5)"
   ]
  },
  {
   "cell_type": "markdown",
   "metadata": {
    "editable": true
   },
   "source": [
    "#### 1.4. Airport Code Table"
   ]
  },
  {
   "cell_type": "markdown",
   "metadata": {
    "editable": true
   },
   "source": [
    "This is a simple table of airport codes and corresponding cities."
   ]
  },
  {
   "cell_type": "code",
   "execution_count": 6,
   "metadata": {
    "editable": true
   },
   "outputs": [
    {
     "data": {
      "text/html": [
       "<div>\n",
       "<style scoped>\n",
       "    .dataframe tbody tr th:only-of-type {\n",
       "        vertical-align: middle;\n",
       "    }\n",
       "\n",
       "    .dataframe tbody tr th {\n",
       "        vertical-align: top;\n",
       "    }\n",
       "\n",
       "    .dataframe thead th {\n",
       "        text-align: right;\n",
       "    }\n",
       "</style>\n",
       "<table border=\"1\" class=\"dataframe\">\n",
       "  <thead>\n",
       "    <tr style=\"text-align: right;\">\n",
       "      <th></th>\n",
       "      <th>ident</th>\n",
       "      <th>type</th>\n",
       "      <th>name</th>\n",
       "      <th>elevation_ft</th>\n",
       "      <th>continent</th>\n",
       "      <th>iso_country</th>\n",
       "      <th>iso_region</th>\n",
       "      <th>municipality</th>\n",
       "      <th>gps_code</th>\n",
       "      <th>iata_code</th>\n",
       "      <th>local_code</th>\n",
       "      <th>coordinates</th>\n",
       "    </tr>\n",
       "  </thead>\n",
       "  <tbody>\n",
       "    <tr>\n",
       "      <th>0</th>\n",
       "      <td>00A</td>\n",
       "      <td>heliport</td>\n",
       "      <td>Total Rf Heliport</td>\n",
       "      <td>11.0</td>\n",
       "      <td>NaN</td>\n",
       "      <td>US</td>\n",
       "      <td>US-PA</td>\n",
       "      <td>Bensalem</td>\n",
       "      <td>00A</td>\n",
       "      <td>NaN</td>\n",
       "      <td>00A</td>\n",
       "      <td>-74.93360137939453, 40.07080078125</td>\n",
       "    </tr>\n",
       "    <tr>\n",
       "      <th>1</th>\n",
       "      <td>00AA</td>\n",
       "      <td>small_airport</td>\n",
       "      <td>Aero B Ranch Airport</td>\n",
       "      <td>3435.0</td>\n",
       "      <td>NaN</td>\n",
       "      <td>US</td>\n",
       "      <td>US-KS</td>\n",
       "      <td>Leoti</td>\n",
       "      <td>00AA</td>\n",
       "      <td>NaN</td>\n",
       "      <td>00AA</td>\n",
       "      <td>-101.473911, 38.704022</td>\n",
       "    </tr>\n",
       "    <tr>\n",
       "      <th>2</th>\n",
       "      <td>00AK</td>\n",
       "      <td>small_airport</td>\n",
       "      <td>Lowell Field</td>\n",
       "      <td>450.0</td>\n",
       "      <td>NaN</td>\n",
       "      <td>US</td>\n",
       "      <td>US-AK</td>\n",
       "      <td>Anchor Point</td>\n",
       "      <td>00AK</td>\n",
       "      <td>NaN</td>\n",
       "      <td>00AK</td>\n",
       "      <td>-151.695999146, 59.94919968</td>\n",
       "    </tr>\n",
       "    <tr>\n",
       "      <th>3</th>\n",
       "      <td>00AL</td>\n",
       "      <td>small_airport</td>\n",
       "      <td>Epps Airpark</td>\n",
       "      <td>820.0</td>\n",
       "      <td>NaN</td>\n",
       "      <td>US</td>\n",
       "      <td>US-AL</td>\n",
       "      <td>Harvest</td>\n",
       "      <td>00AL</td>\n",
       "      <td>NaN</td>\n",
       "      <td>00AL</td>\n",
       "      <td>-86.77030181884766, 34.86479949951172</td>\n",
       "    </tr>\n",
       "    <tr>\n",
       "      <th>4</th>\n",
       "      <td>00AR</td>\n",
       "      <td>closed</td>\n",
       "      <td>Newport Hospital &amp; Clinic Heliport</td>\n",
       "      <td>237.0</td>\n",
       "      <td>NaN</td>\n",
       "      <td>US</td>\n",
       "      <td>US-AR</td>\n",
       "      <td>Newport</td>\n",
       "      <td>NaN</td>\n",
       "      <td>NaN</td>\n",
       "      <td>NaN</td>\n",
       "      <td>-91.254898, 35.6087</td>\n",
       "    </tr>\n",
       "  </tbody>\n",
       "</table>\n",
       "</div>"
      ],
      "text/plain": [
       "  ident           type                                name  elevation_ft  \\\n",
       "0   00A       heliport                   Total Rf Heliport          11.0   \n",
       "1  00AA  small_airport                Aero B Ranch Airport        3435.0   \n",
       "2  00AK  small_airport                        Lowell Field         450.0   \n",
       "3  00AL  small_airport                        Epps Airpark         820.0   \n",
       "4  00AR         closed  Newport Hospital & Clinic Heliport         237.0   \n",
       "\n",
       "  continent iso_country iso_region  municipality gps_code iata_code  \\\n",
       "0       NaN          US      US-PA      Bensalem      00A       NaN   \n",
       "1       NaN          US      US-KS         Leoti     00AA       NaN   \n",
       "2       NaN          US      US-AK  Anchor Point     00AK       NaN   \n",
       "3       NaN          US      US-AL       Harvest     00AL       NaN   \n",
       "4       NaN          US      US-AR       Newport      NaN       NaN   \n",
       "\n",
       "  local_code                            coordinates  \n",
       "0        00A     -74.93360137939453, 40.07080078125  \n",
       "1       00AA                 -101.473911, 38.704022  \n",
       "2       00AK            -151.695999146, 59.94919968  \n",
       "3       00AL  -86.77030181884766, 34.86479949951172  \n",
       "4        NaN                    -91.254898, 35.6087  "
      ]
     },
     "execution_count": 6,
     "metadata": {},
     "output_type": "execute_result"
    }
   ],
   "source": [
    "df_airport_codes = pd.read_csv(\"data/airport-codes_csv.csv\")\n",
    "df_airport_codes.head(5)"
   ]
  },
  {
   "cell_type": "markdown",
   "metadata": {
    "editable": true
   },
   "source": []
  },
  {
   "cell_type": "markdown",
   "metadata": {
    "editable": true
   },
   "source": [
    "### Step 2: Explore and Assess the Data\n",
    "#### Explore the Data \n",
    "Identify data quality issues, like missing values, duplicate data, etc."
   ]
  },
  {
   "cell_type": "code",
   "execution_count": 7,
   "metadata": {
    "editable": true
   },
   "outputs": [],
   "source": [
    "# Describe i94 data\n",
    "#df_i94.describe()"
   ]
  },
  {
   "cell_type": "code",
   "execution_count": 8,
   "metadata": {
    "editable": true
   },
   "outputs": [],
   "source": [
    "# Describe USA Temperature data\n",
    "#df_temp_us.describe()"
   ]
  },
  {
   "cell_type": "code",
   "execution_count": 9,
   "metadata": {
    "editable": true
   },
   "outputs": [],
   "source": [
    "# Describe Airport Codes data\n",
    "#df_airport_codes.describe()"
   ]
  },
  {
   "cell_type": "code",
   "execution_count": 11,
   "metadata": {
    "editable": true
   },
   "outputs": [],
   "source": [
    "# Describe Demographics data\n",
    "#df_demographics.describe()"
   ]
  },
  {
   "cell_type": "markdown",
   "metadata": {
    "editable": true
   },
   "source": [
    "### Step 2.1: Clean the data\n",
    "Document steps necessary to clean the data\n",
    "- 2.1.1. I94 data\n",
    "- 2.1.2. Temperature data\n",
    "- 2.1.1. Airport data\n",
    "- 2.1.1. Demographics data\n"
   ]
  },
  {
   "cell_type": "markdown",
   "metadata": {
    "editable": true
   },
   "source": [
    "### 2.1.1. Clean up i94 data"
   ]
  },
  {
   "cell_type": "code",
   "execution_count": 7,
   "metadata": {
    "editable": true
   },
   "outputs": [
    {
     "data": {
      "text/html": [
       "<div>\n",
       "<style scoped>\n",
       "    .dataframe tbody tr th:only-of-type {\n",
       "        vertical-align: middle;\n",
       "    }\n",
       "\n",
       "    .dataframe tbody tr th {\n",
       "        vertical-align: top;\n",
       "    }\n",
       "\n",
       "    .dataframe thead th {\n",
       "        text-align: right;\n",
       "    }\n",
       "</style>\n",
       "<table border=\"1\" class=\"dataframe\">\n",
       "  <thead>\n",
       "    <tr style=\"text-align: right;\">\n",
       "      <th></th>\n",
       "      <th>port_code</th>\n",
       "      <th>port_city</th>\n",
       "      <th>port_state</th>\n",
       "    </tr>\n",
       "  </thead>\n",
       "  <tbody>\n",
       "    <tr>\n",
       "      <th>0</th>\n",
       "      <td>ALC</td>\n",
       "      <td>ALCAN</td>\n",
       "      <td>AK</td>\n",
       "    </tr>\n",
       "    <tr>\n",
       "      <th>1</th>\n",
       "      <td>ANC</td>\n",
       "      <td>ANCHORAGE</td>\n",
       "      <td>AK</td>\n",
       "    </tr>\n",
       "    <tr>\n",
       "      <th>2</th>\n",
       "      <td>BAR</td>\n",
       "      <td>BAKER AAF - BAKER ISLAND</td>\n",
       "      <td>AK</td>\n",
       "    </tr>\n",
       "    <tr>\n",
       "      <th>3</th>\n",
       "      <td>DAC</td>\n",
       "      <td>DALTONS CACHE</td>\n",
       "      <td>AK</td>\n",
       "    </tr>\n",
       "    <tr>\n",
       "      <th>4</th>\n",
       "      <td>PIZ</td>\n",
       "      <td>DEW STATION PT LAY DEW</td>\n",
       "      <td>AK</td>\n",
       "    </tr>\n",
       "    <tr>\n",
       "      <th>5</th>\n",
       "      <td>DTH</td>\n",
       "      <td>DUTCH HARBOR</td>\n",
       "      <td>AK</td>\n",
       "    </tr>\n",
       "    <tr>\n",
       "      <th>6</th>\n",
       "      <td>EGL</td>\n",
       "      <td>EAGLE</td>\n",
       "      <td>AK</td>\n",
       "    </tr>\n",
       "    <tr>\n",
       "      <th>7</th>\n",
       "      <td>FRB</td>\n",
       "      <td>FAIRBANKS</td>\n",
       "      <td>AK</td>\n",
       "    </tr>\n",
       "    <tr>\n",
       "      <th>8</th>\n",
       "      <td>HOM</td>\n",
       "      <td>HOMER</td>\n",
       "      <td>AK</td>\n",
       "    </tr>\n",
       "    <tr>\n",
       "      <th>9</th>\n",
       "      <td>HYD</td>\n",
       "      <td>HYDER</td>\n",
       "      <td>AK</td>\n",
       "    </tr>\n",
       "    <tr>\n",
       "      <th>10</th>\n",
       "      <td>JUN</td>\n",
       "      <td>JUNEAU</td>\n",
       "      <td>AK</td>\n",
       "    </tr>\n",
       "    <tr>\n",
       "      <th>11</th>\n",
       "      <td>5KE</td>\n",
       "      <td>KETCHIKAN</td>\n",
       "      <td>AK</td>\n",
       "    </tr>\n",
       "    <tr>\n",
       "      <th>12</th>\n",
       "      <td>KET</td>\n",
       "      <td>KETCHIKAN</td>\n",
       "      <td>AK</td>\n",
       "    </tr>\n",
       "    <tr>\n",
       "      <th>13</th>\n",
       "      <td>MOS</td>\n",
       "      <td>MOSES POINT INTERMEDIATE</td>\n",
       "      <td>AK</td>\n",
       "    </tr>\n",
       "    <tr>\n",
       "      <th>14</th>\n",
       "      <td>NIK</td>\n",
       "      <td>NIKISKI</td>\n",
       "      <td>AK</td>\n",
       "    </tr>\n",
       "    <tr>\n",
       "      <th>15</th>\n",
       "      <td>NOM</td>\n",
       "      <td>NOM</td>\n",
       "      <td>AK</td>\n",
       "    </tr>\n",
       "    <tr>\n",
       "      <th>16</th>\n",
       "      <td>PKC</td>\n",
       "      <td>POKER CREEK</td>\n",
       "      <td>AK</td>\n",
       "    </tr>\n",
       "    <tr>\n",
       "      <th>17</th>\n",
       "      <td>ORI</td>\n",
       "      <td>PORT LIONS SPB</td>\n",
       "      <td>AK</td>\n",
       "    </tr>\n",
       "    <tr>\n",
       "      <th>18</th>\n",
       "      <td>SKA</td>\n",
       "      <td>SKAGWAY</td>\n",
       "      <td>AK</td>\n",
       "    </tr>\n",
       "    <tr>\n",
       "      <th>19</th>\n",
       "      <td>SNP</td>\n",
       "      <td>ST. PAUL ISLAND</td>\n",
       "      <td>AK</td>\n",
       "    </tr>\n",
       "  </tbody>\n",
       "</table>\n",
       "</div>"
      ],
      "text/plain": [
       "   port_code                 port_city port_state\n",
       "0        ALC                     ALCAN         AK\n",
       "1        ANC                 ANCHORAGE         AK\n",
       "2        BAR  BAKER AAF - BAKER ISLAND         AK\n",
       "3        DAC             DALTONS CACHE         AK\n",
       "4        PIZ    DEW STATION PT LAY DEW         AK\n",
       "5        DTH              DUTCH HARBOR         AK\n",
       "6        EGL                     EAGLE         AK\n",
       "7        FRB                 FAIRBANKS         AK\n",
       "8        HOM                     HOMER         AK\n",
       "9        HYD                     HYDER         AK\n",
       "10       JUN                    JUNEAU         AK\n",
       "11       5KE                 KETCHIKAN         AK\n",
       "12       KET                 KETCHIKAN         AK\n",
       "13       MOS  MOSES POINT INTERMEDIATE         AK\n",
       "14       NIK                   NIKISKI         AK\n",
       "15       NOM                       NOM         AK\n",
       "16       PKC               POKER CREEK         AK\n",
       "17       ORI            PORT LIONS SPB         AK\n",
       "18       SKA                   SKAGWAY         AK\n",
       "19       SNP           ST. PAUL ISLAND         AK"
      ]
     },
     "execution_count": 7,
     "metadata": {},
     "output_type": "execute_result"
    }
   ],
   "source": [
    "# Get port locations from SAS text file\n",
    "\n",
    "with open(\"data/I94_SAS_Labels_Descriptions.SAS\") as f:\n",
    "    content = f.readlines()\n",
    "content = [x.strip() for x in content]\n",
    "ports = content[302:962]\n",
    "splitted_ports = [port.split(\"=\") for port in ports]\n",
    "\n",
    "port_codes = [x[0].replace(\"'\",\"\").strip() for x in splitted_ports]\n",
    "port_locations = [x[1].replace(\"'\",\"\").strip() for x in splitted_ports]\n",
    "port_cities = [x.split(\",\")[0] for x in port_locations]\n",
    "port_states = [x.split(\",\")[-1] for x in port_locations]\n",
    "\n",
    "df_port_locations = pd.DataFrame({\"port_code\" : port_codes, \"port_city\": port_cities, \"port_state\": port_states})\n",
    "df_port_locations.head(20)"
   ]
  },
  {
   "cell_type": "code",
   "execution_count": 8,
   "metadata": {
    "editable": true
   },
   "outputs": [
    {
     "name": "stdout",
     "output_type": "stream",
     "text": [
      "First port in SAS file: ALCAN, last port No PORT Code (OSN)\n",
      "['74S', 'JBQ', 'JMZ', 'FSC', 'FTB', 'WAS', 'ZZZ', 'PHF', 'WA5', 'CPX', 'BUS', 'X44', 'AUH', 'SCH', 'GPI', 'NK', 'HRL', 'Y62', 'BCM', 'YGF', 'CHN', 'OLM', 'STN', 'IAG', 'FRG', 'MTH', 'OAI', 'A2A', 'AMT', 'PHN', 'RYY', 'JIG', 'AKT', 'NC8', 'CXO', 'X96', 'JSJ', '888', 'OTS', 'DEC', 'XXX', 'XNA', 'UNK', 'SP0', 'GMT', '.GA', 'SUS', 'ISP', 'PLB', '5T6', 'DRV', '060', 'DAY', 'AG', 'W55', 'NGL', 'JFA', 'MAP', 'NYL', 'WTR', 'ATW', 'BKF', 'PFN', 'OGS', 'EGE', 'VMB', 'CP', 'CLX', 'LIT', 'ASI', 'MAA', 'PCW', 'T01', 'TIW', 'GAC', 'OSN', 'ADU']\n"
     ]
    }
   ],
   "source": [
    "# print first and last element in dict to check if all lines in file are covered\n",
    "\n",
    "print(f\"First port in SAS file: {df_port_locations['port_city'].values[0]}, last port {df_port_locations['port_city'].values[-1]}\")\n",
    "\n",
    "irregular_ports_df = df_port_locations[df_port_locations[\"port_city\"] == df_port_locations[\"port_state\"]]\n",
    "irregular_ports = list(set(irregular_ports_df[\"port_code\"].values))\n",
    "\n",
    "print(irregular_ports)"
   ]
  },
  {
   "cell_type": "code",
   "execution_count": 9,
   "metadata": {
    "editable": true
   },
   "outputs": [
    {
     "name": "stdout",
     "output_type": "stream",
     "text": [
      "i94 data contains 3096313 rows before cleaning.\n",
      "i94 data contains 2995590 rows after removing irregular ports.\n"
     ]
    },
    {
     "name": "stderr",
     "output_type": "stream",
     "text": [
      "/opt/conda/lib/python3.6/site-packages/pandas/core/frame.py:3697: SettingWithCopyWarning: \n",
      "A value is trying to be set on a copy of a slice from a DataFrame\n",
      "\n",
      "See the caveats in the documentation: http://pandas.pydata.org/pandas-docs/stable/indexing.html#indexing-view-versus-copy\n",
      "  errors=errors)\n"
     ]
    },
    {
     "name": "stdout",
     "output_type": "stream",
     "text": [
      "i94 data contains 2306754 rows after removing NaN values.\n"
     ]
    },
    {
     "name": "stderr",
     "output_type": "stream",
     "text": [
      "/opt/conda/lib/python3.6/site-packages/ipykernel_launcher.py:9: SettingWithCopyWarning: \n",
      "A value is trying to be set on a copy of a slice from a DataFrame\n",
      "\n",
      "See the caveats in the documentation: http://pandas.pydata.org/pandas-docs/stable/indexing.html#indexing-view-versus-copy\n",
      "  if __name__ == '__main__':\n"
     ]
    }
   ],
   "source": [
    "# drop all irregular ports from i94 data\n",
    "\n",
    "print(f\"i94 data contains {len(df_i94)} rows before cleaning.\")\n",
    "df_i94_filtered = df_i94[~df_i94[\"i94port\"].isin(irregular_ports)]\n",
    "\n",
    "print(f\"i94 data contains {len(df_i94_filtered)} rows after removing irregular ports.\")\n",
    "\n",
    "df_i94_filtered.drop(columns=[\"insnum\", \"entdepu\", \"occup\", \"visapost\"], inplace=True)\n",
    "df_i94_filtered.dropna(inplace=True)\n",
    "\n",
    "print(f\"i94 data contains {len(df_i94_filtered)} rows after removing NaN values.\")"
   ]
  },
  {
   "cell_type": "code",
   "execution_count": 12,
   "metadata": {
    "editable": true
   },
   "outputs": [],
   "source": [
    "#df_i94_filtered['i94addr'] = df_i94_filtered['i94addr'].str.replace('\"\"',)"
   ]
  },
  {
   "cell_type": "code",
   "execution_count": 11,
   "metadata": {
    "editable": true
   },
   "outputs": [],
   "source": [
    "\n",
    "# Save the usa data into a csv, which will be used to load the immigration table\n",
    "#df_i94_filtered.to_csv('data/i94_filtered.csv', sep=';', index = False ,float_format='%11.2f' ,encoding='utf-8') \n",
    "#df = pd.read_csv(filename, sep=',').replace('\"','', regex=True)\n",
    "\n",
    "df_i94_filtered.to_csv('data/i94_filtered1.csv', sep=';', index = False ,float_format='%11.2f')\n"
   ]
  },
  {
   "cell_type": "markdown",
   "metadata": {
    "editable": true
   },
   "source": [
    "### 2.1.2. Clean up the Temperature data"
   ]
  },
  {
   "cell_type": "code",
   "execution_count": 13,
   "metadata": {
    "editable": true
   },
   "outputs": [
    {
     "data": {
      "text/plain": [
       "dt                                   0\n",
       "AverageTemperature               25765\n",
       "AverageTemperatureUncertainty    25765\n",
       "City                                 0\n",
       "Country                              0\n",
       "Latitude                             0\n",
       "Longitude                            0\n",
       "dtype: int64"
      ]
     },
     "execution_count": 13,
     "metadata": {},
     "output_type": "execute_result"
    }
   ],
   "source": [
    "# Check for the list of columns having null data\n",
    "chk_nan = df_temp_us.isnull().sum()\n",
    "chk_nan"
   ]
  },
  {
   "cell_type": "code",
   "execution_count": 14,
   "metadata": {
    "editable": true
   },
   "outputs": [
    {
     "name": "stderr",
     "output_type": "stream",
     "text": [
      "/opt/conda/lib/python3.6/site-packages/ipykernel_launcher.py:2: SettingWithCopyWarning: \n",
      "A value is trying to be set on a copy of a slice from a DataFrame\n",
      "\n",
      "See the caveats in the documentation: http://pandas.pydata.org/pandas-docs/stable/indexing.html#indexing-view-versus-copy\n",
      "  \n"
     ]
    }
   ],
   "source": [
    "# clear missing temperature values\n",
    "df_temp_us.dropna(inplace=True)"
   ]
  },
  {
   "cell_type": "code",
   "execution_count": 15,
   "metadata": {
    "editable": true
   },
   "outputs": [],
   "source": [
    "# Save the usa data into a csv, which will be used to load the temperature table\n",
    "df_temp_us.to_csv('data/usa_temperature.csv',sep=';', index=False,float_format='%11.2f')"
   ]
  },
  {
   "cell_type": "markdown",
   "metadata": {
    "editable": true
   },
   "source": [
    "### 2.1.3. Clean up Airport data"
   ]
  },
  {
   "cell_type": "code",
   "execution_count": 16,
   "metadata": {
    "editable": true
   },
   "outputs": [
    {
     "data": {
      "text/plain": [
       "ident           55075\n",
       "type            55075\n",
       "name            55075\n",
       "elevation_ft    48069\n",
       "continent       27356\n",
       "iso_country     54828\n",
       "iso_region      55075\n",
       "municipality    49399\n",
       "gps_code        41030\n",
       "iata_code        9189\n",
       "local_code      28686\n",
       "coordinates     55075\n",
       "dtype: int64"
      ]
     },
     "execution_count": 16,
     "metadata": {},
     "output_type": "execute_result"
    }
   ],
   "source": [
    "# Check the count before clean up\n",
    "df_airport_codes.count()"
   ]
  },
  {
   "cell_type": "code",
   "execution_count": 17,
   "metadata": {
    "editable": true
   },
   "outputs": [
    {
     "data": {
      "text/html": [
       "<div>\n",
       "<style scoped>\n",
       "    .dataframe tbody tr th:only-of-type {\n",
       "        vertical-align: middle;\n",
       "    }\n",
       "\n",
       "    .dataframe tbody tr th {\n",
       "        vertical-align: top;\n",
       "    }\n",
       "\n",
       "    .dataframe thead th {\n",
       "        text-align: right;\n",
       "    }\n",
       "</style>\n",
       "<table border=\"1\" class=\"dataframe\">\n",
       "  <thead>\n",
       "    <tr style=\"text-align: right;\">\n",
       "      <th></th>\n",
       "      <th>ident</th>\n",
       "      <th>type</th>\n",
       "      <th>name</th>\n",
       "      <th>elevation_ft</th>\n",
       "      <th>continent</th>\n",
       "      <th>iso_country</th>\n",
       "      <th>iso_region</th>\n",
       "      <th>municipality</th>\n",
       "      <th>gps_code</th>\n",
       "      <th>iata_code</th>\n",
       "      <th>local_code</th>\n",
       "      <th>coordinates</th>\n",
       "    </tr>\n",
       "  </thead>\n",
       "  <tbody>\n",
       "    <tr>\n",
       "      <th>223</th>\n",
       "      <td>03N</td>\n",
       "      <td>small_airport</td>\n",
       "      <td>Utirik Airport</td>\n",
       "      <td>4.0</td>\n",
       "      <td>OC</td>\n",
       "      <td>MH</td>\n",
       "      <td>MH-UTI</td>\n",
       "      <td>Utirik Island</td>\n",
       "      <td>K03N</td>\n",
       "      <td>UTK</td>\n",
       "      <td>03N</td>\n",
       "      <td>169.852005, 11.222</td>\n",
       "    </tr>\n",
       "    <tr>\n",
       "      <th>440</th>\n",
       "      <td>07FA</td>\n",
       "      <td>small_airport</td>\n",
       "      <td>Ocean Reef Club Airport</td>\n",
       "      <td>8.0</td>\n",
       "      <td>NaN</td>\n",
       "      <td>US</td>\n",
       "      <td>US-FL</td>\n",
       "      <td>Key Largo</td>\n",
       "      <td>07FA</td>\n",
       "      <td>OCA</td>\n",
       "      <td>07FA</td>\n",
       "      <td>-80.274803161621, 25.325399398804</td>\n",
       "    </tr>\n",
       "    <tr>\n",
       "      <th>594</th>\n",
       "      <td>0AK</td>\n",
       "      <td>small_airport</td>\n",
       "      <td>Pilot Station Airport</td>\n",
       "      <td>305.0</td>\n",
       "      <td>NaN</td>\n",
       "      <td>US</td>\n",
       "      <td>US-AK</td>\n",
       "      <td>Pilot Station</td>\n",
       "      <td>NaN</td>\n",
       "      <td>PQS</td>\n",
       "      <td>0AK</td>\n",
       "      <td>-162.899994, 61.934601</td>\n",
       "    </tr>\n",
       "    <tr>\n",
       "      <th>673</th>\n",
       "      <td>0CO2</td>\n",
       "      <td>small_airport</td>\n",
       "      <td>Crested Butte Airpark</td>\n",
       "      <td>8980.0</td>\n",
       "      <td>NaN</td>\n",
       "      <td>US</td>\n",
       "      <td>US-CO</td>\n",
       "      <td>Crested Butte</td>\n",
       "      <td>0CO2</td>\n",
       "      <td>CSE</td>\n",
       "      <td>0CO2</td>\n",
       "      <td>-106.928341, 38.851918</td>\n",
       "    </tr>\n",
       "    <tr>\n",
       "      <th>1088</th>\n",
       "      <td>0TE7</td>\n",
       "      <td>small_airport</td>\n",
       "      <td>LBJ Ranch Airport</td>\n",
       "      <td>1515.0</td>\n",
       "      <td>NaN</td>\n",
       "      <td>US</td>\n",
       "      <td>US-TX</td>\n",
       "      <td>Johnson City</td>\n",
       "      <td>0TE7</td>\n",
       "      <td>JCY</td>\n",
       "      <td>0TE7</td>\n",
       "      <td>-98.62249755859999, 30.251800537100003</td>\n",
       "    </tr>\n",
       "  </tbody>\n",
       "</table>\n",
       "</div>"
      ],
      "text/plain": [
       "     ident           type                     name  elevation_ft continent  \\\n",
       "223    03N  small_airport           Utirik Airport           4.0        OC   \n",
       "440   07FA  small_airport  Ocean Reef Club Airport           8.0       NaN   \n",
       "594    0AK  small_airport    Pilot Station Airport         305.0       NaN   \n",
       "673   0CO2  small_airport    Crested Butte Airpark        8980.0       NaN   \n",
       "1088  0TE7  small_airport        LBJ Ranch Airport        1515.0       NaN   \n",
       "\n",
       "     iso_country iso_region   municipality gps_code iata_code local_code  \\\n",
       "223           MH     MH-UTI  Utirik Island     K03N       UTK        03N   \n",
       "440           US      US-FL      Key Largo     07FA       OCA       07FA   \n",
       "594           US      US-AK  Pilot Station      NaN       PQS        0AK   \n",
       "673           US      US-CO  Crested Butte     0CO2       CSE       0CO2   \n",
       "1088          US      US-TX   Johnson City     0TE7       JCY       0TE7   \n",
       "\n",
       "                                 coordinates  \n",
       "223                       169.852005, 11.222  \n",
       "440        -80.274803161621, 25.325399398804  \n",
       "594                   -162.899994, 61.934601  \n",
       "673                   -106.928341, 38.851918  \n",
       "1088  -98.62249755859999, 30.251800537100003  "
      ]
     },
     "execution_count": 17,
     "metadata": {},
     "output_type": "execute_result"
    }
   ],
   "source": [
    "# Drop the NaN records for iata_code\n",
    "\n",
    "df_airport_codes.dropna(subset=['iata_code'], inplace=True)\n",
    "df_airport_codes.head(5)"
   ]
  },
  {
   "cell_type": "code",
   "execution_count": 18,
   "metadata": {
    "editable": true
   },
   "outputs": [],
   "source": [
    "# Delete deuplicate data from airport codes\n",
    "df_airport_codes = df_airport_codes.drop_duplicates(subset='iata_code', keep='last')"
   ]
  },
  {
   "cell_type": "code",
   "execution_count": 19,
   "metadata": {
    "editable": true
   },
   "outputs": [
    {
     "data": {
      "text/plain": [
       "ident           9042\n",
       "type            9042\n",
       "name            9042\n",
       "elevation_ft    8693\n",
       "continent       6085\n",
       "iso_country     9011\n",
       "iso_region      9042\n",
       "municipality    8282\n",
       "gps_code        8424\n",
       "iata_code       9042\n",
       "local_code      2979\n",
       "coordinates     9042\n",
       "dtype: int64"
      ]
     },
     "execution_count": 19,
     "metadata": {},
     "output_type": "execute_result"
    }
   ],
   "source": [
    "# Check the count after clean up\n",
    "df_airport_codes.count()"
   ]
  },
  {
   "cell_type": "code",
   "execution_count": 21,
   "metadata": {
    "editable": true
   },
   "outputs": [],
   "source": [
    "#df_airport_codes.loc[df_airport_codes['iata_code'] == 'BCK']"
   ]
  },
  {
   "cell_type": "code",
   "execution_count": 27,
   "metadata": {
    "editable": true
   },
   "outputs": [],
   "source": [
    "#df_airport_codes"
   ]
  },
  {
   "cell_type": "markdown",
   "metadata": {
    "editable": true
   },
   "source": [
    "#### 2.1.4. Clean up Demographics data"
   ]
  },
  {
   "cell_type": "code",
   "execution_count": 20,
   "metadata": {
    "editable": true
   },
   "outputs": [
    {
     "data": {
      "text/plain": [
       "City                       0\n",
       "State                      0\n",
       "Median Age                 0\n",
       "Male Population            3\n",
       "Female Population          3\n",
       "Total Population           0\n",
       "Number of Veterans        13\n",
       "Foreign-born              13\n",
       "Average Household Size    16\n",
       "State Code                 0\n",
       "Race                       0\n",
       "Count                      0\n",
       "dtype: int64"
      ]
     },
     "execution_count": 20,
     "metadata": {},
     "output_type": "execute_result"
    }
   ],
   "source": [
    "# Check for the list of columns having null data\n",
    "\n",
    "chk_nan = df_demographics.isnull().sum()\n",
    "chk_nan"
   ]
  },
  {
   "cell_type": "code",
   "execution_count": 21,
   "metadata": {
    "editable": true
   },
   "outputs": [],
   "source": [
    "# Drop NaN records from the data frame\n",
    "df_demographics.dropna(inplace=True)"
   ]
  },
  {
   "cell_type": "code",
   "execution_count": 22,
   "metadata": {
    "editable": true
   },
   "outputs": [
    {
     "data": {
      "text/plain": [
       "City                      0\n",
       "State                     0\n",
       "Median Age                0\n",
       "Male Population           0\n",
       "Female Population         0\n",
       "Total Population          0\n",
       "Number of Veterans        0\n",
       "Foreign-born              0\n",
       "Average Household Size    0\n",
       "State Code                0\n",
       "Race                      0\n",
       "Count                     0\n",
       "dtype: int64"
      ]
     },
     "execution_count": 22,
     "metadata": {},
     "output_type": "execute_result"
    }
   ],
   "source": [
    "# Re-check the values after the modification\n",
    "\n",
    "chk_nan = df_demographics.isnull().sum()\n",
    "chk_nan"
   ]
  },
  {
   "cell_type": "code",
   "execution_count": null,
   "metadata": {
    "editable": true
   },
   "outputs": [],
   "source": []
  },
  {
   "cell_type": "markdown",
   "metadata": {
    "editable": true
   },
   "source": [
    "### Step 3: Define the Data Model\n",
    "#### 3.1 Conceptual Data Model\n",
    "Map out the conceptual data model and explain why you chose that model\n",
    "\n",
    "##### Tables:\n",
    "| table name | columns | description | type |\n",
    "| ------- | ---------- | ----------- | ---- |\n",
    "| airports | iata_code - name - type - local_code - coordinates - city | stores information related to airports | dimension table |\n",
    "| demographics | city - state - media_age - male_population - female_population - total_population - num_veterans - foreign_born - average_household_size - state_code - race - count | stores demographics data for cities | dimension table |\n",
    "| immigrations | cicid - year - month - cit - res - iata - arrdate - mode - addr - depdate - bir - visa - coun- dtadfil - visapost - occup - entdepa - entdepd - entdepu - matflag - biryear - dtaddto - gender - insnum - airline - admnum - fltno - visatype | stores all i94 immigrations data | fact table |\n",
    "| temperature | timestamp - average_temperature - average_temperatur_uncertainty - city - country - latitude - longitude | stores temperature information | dimension table |\n",
    "\n",
    "\n",
    "\n",
    "#### 3.2 Mapping Out Data Pipelines\n",
    "List the steps necessary to pipeline the data into the chosen data model\n",
    "\n",
    "1. Create tables by executing `create_tables.py`.\n",
    "2. Join city to airports data.\n",
    "3. Insert data."
   ]
  },
  {
   "cell_type": "markdown",
   "metadata": {
    "editable": true
   },
   "source": [
    "### Step 4: Run Pipelines to Model the Data \n",
    "#### 4.1 Create the data model\n",
    "Build the data pipelines to create the data model\n",
    "\n",
    "\n",
    "- 4.1.1. Insert data into Airports table\n",
    "- 4.1.2. Insert data into Demographics table\n",
    "- 4.1.3. Insert data into Temperature table\n",
    "- 4.1.4. Insert data into Immigration table"
   ]
  },
  {
   "cell_type": "markdown",
   "metadata": {
    "editable": true
   },
   "source": [
    "### After running create_tables.py, insert the data into the database"
   ]
  },
  {
   "cell_type": "code",
   "execution_count": 1,
   "metadata": {
    "editable": true
   },
   "outputs": [],
   "source": [
    "#import psycopg2\n",
    "#from sql_queries import airport_insert, demographic_insert, immigration_insert, temperature_insert"
   ]
  },
  {
   "cell_type": "code",
   "execution_count": 23,
   "metadata": {
    "editable": true
   },
   "outputs": [],
   "source": [
    "# Create connection to the \"sparkifydb\" database\n",
    "def connect_db():\n",
    "    conn = psycopg2.connect(\"host=127.0.0.1 dbname=sparkifydb user=student password=student\")\n",
    "    conn.set_session(autocommit=True)\n",
    "    cur = conn.cursor()\n",
    "    return cur, conn\n"
   ]
  },
  {
   "cell_type": "code",
   "execution_count": 37,
   "metadata": {
    "editable": true
   },
   "outputs": [],
   "source": [
    "cur, conn = connect_db()"
   ]
  },
  {
   "cell_type": "markdown",
   "metadata": {
    "editable": true
   },
   "source": [
    "### 4.1.1. Insert data into Airport table"
   ]
  },
  {
   "cell_type": "code",
   "execution_count": 24,
   "metadata": {
    "editable": true
   },
   "outputs": [],
   "source": [
    "df_airport_codes = df_airport_codes.merge(df_port_locations, left_on=\"iata_code\", right_on=\"port_code\")\n",
    "\n",
    "df_airport_codes.drop(columns=[\"port_code\"], inplace=True)\n",
    "df_airport_codes = df_airport_codes[[\"iata_code\", \"name\", \"type\", \"local_code\", \"coordinates\", \"port_city\", \"elevation_ft\", \"continent\", \"iso_country\", \"iso_region\", \"municipality\", \"gps_code\"]]"
   ]
  },
  {
   "cell_type": "code",
   "execution_count": 25,
   "metadata": {
    "editable": true
   },
   "outputs": [
    {
     "data": {
      "text/html": [
       "<div>\n",
       "<style scoped>\n",
       "    .dataframe tbody tr th:only-of-type {\n",
       "        vertical-align: middle;\n",
       "    }\n",
       "\n",
       "    .dataframe tbody tr th {\n",
       "        vertical-align: top;\n",
       "    }\n",
       "\n",
       "    .dataframe thead th {\n",
       "        text-align: right;\n",
       "    }\n",
       "</style>\n",
       "<table border=\"1\" class=\"dataframe\">\n",
       "  <thead>\n",
       "    <tr style=\"text-align: right;\">\n",
       "      <th></th>\n",
       "      <th>iata_code</th>\n",
       "      <th>name</th>\n",
       "      <th>type</th>\n",
       "      <th>local_code</th>\n",
       "      <th>coordinates</th>\n",
       "      <th>port_city</th>\n",
       "      <th>elevation_ft</th>\n",
       "      <th>continent</th>\n",
       "      <th>iso_country</th>\n",
       "      <th>iso_region</th>\n",
       "      <th>municipality</th>\n",
       "      <th>gps_code</th>\n",
       "    </tr>\n",
       "  </thead>\n",
       "  <tbody>\n",
       "    <tr>\n",
       "      <th>0</th>\n",
       "      <td>TKI</td>\n",
       "      <td>Tokeen Seaplane Base</td>\n",
       "      <td>seaplane_base</td>\n",
       "      <td>57A</td>\n",
       "      <td>-133.32699585, 55.9370994568</td>\n",
       "      <td>TOKEEN</td>\n",
       "      <td>NaN</td>\n",
       "      <td>NaN</td>\n",
       "      <td>US</td>\n",
       "      <td>US-AK</td>\n",
       "      <td>Tokeen</td>\n",
       "      <td>57A</td>\n",
       "    </tr>\n",
       "    <tr>\n",
       "      <th>1</th>\n",
       "      <td>BKF</td>\n",
       "      <td>Lake Brooks Seaplane Base</td>\n",
       "      <td>seaplane_base</td>\n",
       "      <td>5Z9</td>\n",
       "      <td>-155.77699279785, 58.554798126221</td>\n",
       "      <td>No PORT Code (BKF)</td>\n",
       "      <td>36.0</td>\n",
       "      <td>NaN</td>\n",
       "      <td>US</td>\n",
       "      <td>US-AK</td>\n",
       "      <td>Katmai National Park</td>\n",
       "      <td>5Z9</td>\n",
       "    </tr>\n",
       "    <tr>\n",
       "      <th>2</th>\n",
       "      <td>AXB</td>\n",
       "      <td>Maxson Airfield</td>\n",
       "      <td>small_airport</td>\n",
       "      <td>89NY</td>\n",
       "      <td>-75.90034, 44.312002</td>\n",
       "      <td>ALEXANDRIA BAY</td>\n",
       "      <td>340.0</td>\n",
       "      <td>NaN</td>\n",
       "      <td>US</td>\n",
       "      <td>US-NY</td>\n",
       "      <td>Alexandria Bay</td>\n",
       "      <td>89NY</td>\n",
       "    </tr>\n",
       "    <tr>\n",
       "      <th>3</th>\n",
       "      <td>FRE</td>\n",
       "      <td>Fera/Maringe Airport</td>\n",
       "      <td>small_airport</td>\n",
       "      <td>NaN</td>\n",
       "      <td>159.576996, -8.1075</td>\n",
       "      <td>FRESNO</td>\n",
       "      <td>NaN</td>\n",
       "      <td>OC</td>\n",
       "      <td>SB</td>\n",
       "      <td>SB-IS</td>\n",
       "      <td>Fera Island</td>\n",
       "      <td>AGGF</td>\n",
       "    </tr>\n",
       "    <tr>\n",
       "      <th>4</th>\n",
       "      <td>ANZ</td>\n",
       "      <td>Angus Downs Airport</td>\n",
       "      <td>small_airport</td>\n",
       "      <td>NaN</td>\n",
       "      <td>132.2748, -25.0325</td>\n",
       "      <td>ANZALDUAS</td>\n",
       "      <td>1724.0</td>\n",
       "      <td>OC</td>\n",
       "      <td>AU</td>\n",
       "      <td>AU-NT</td>\n",
       "      <td>Angus Downs Station</td>\n",
       "      <td>NaN</td>\n",
       "    </tr>\n",
       "  </tbody>\n",
       "</table>\n",
       "</div>"
      ],
      "text/plain": [
       "  iata_code                       name           type local_code  \\\n",
       "0       TKI       Tokeen Seaplane Base  seaplane_base        57A   \n",
       "1       BKF  Lake Brooks Seaplane Base  seaplane_base        5Z9   \n",
       "2       AXB            Maxson Airfield  small_airport       89NY   \n",
       "3       FRE       Fera/Maringe Airport  small_airport        NaN   \n",
       "4       ANZ        Angus Downs Airport  small_airport        NaN   \n",
       "\n",
       "                         coordinates           port_city  elevation_ft  \\\n",
       "0       -133.32699585, 55.9370994568              TOKEEN           NaN   \n",
       "1  -155.77699279785, 58.554798126221  No PORT Code (BKF)          36.0   \n",
       "2               -75.90034, 44.312002      ALEXANDRIA BAY         340.0   \n",
       "3                159.576996, -8.1075              FRESNO           NaN   \n",
       "4                 132.2748, -25.0325           ANZALDUAS        1724.0   \n",
       "\n",
       "  continent iso_country iso_region          municipality gps_code  \n",
       "0       NaN          US      US-AK                Tokeen      57A  \n",
       "1       NaN          US      US-AK  Katmai National Park      5Z9  \n",
       "2       NaN          US      US-NY        Alexandria Bay     89NY  \n",
       "3        OC          SB      SB-IS           Fera Island     AGGF  \n",
       "4        OC          AU      AU-NT   Angus Downs Station      NaN  "
      ]
     },
     "execution_count": 25,
     "metadata": {},
     "output_type": "execute_result"
    }
   ],
   "source": [
    "df_airport_codes.head()"
   ]
  },
  {
   "cell_type": "code",
   "execution_count": 282,
   "metadata": {
    "editable": true
   },
   "outputs": [],
   "source": [
    "#df_airport_codes.loc[df_airport_codes['iata_code'] == 'TKI']"
   ]
  },
  {
   "cell_type": "markdown",
   "metadata": {
    "editable": true
   },
   "source": [
    "#### 4.1.1.1. Fix the Non-ASCII data issue in the Airport code\n",
    "\n",
    "* Airport table contains Non-ASCII values in the \"Name\" and \"Municipality\" column\n",
    "* This data needs to be cleaned\n",
    "* Replace Nan values with 'NA'\n",
    "* Convert Non-ASCII values to ASCII values before loading the data into the immigrations table to avoid encoding error"
   ]
  },
  {
   "cell_type": "code",
   "execution_count": 26,
   "metadata": {
    "editable": true
   },
   "outputs": [
    {
     "data": {
      "text/html": [
       "<div>\n",
       "<style scoped>\n",
       "    .dataframe tbody tr th:only-of-type {\n",
       "        vertical-align: middle;\n",
       "    }\n",
       "\n",
       "    .dataframe tbody tr th {\n",
       "        vertical-align: top;\n",
       "    }\n",
       "\n",
       "    .dataframe thead th {\n",
       "        text-align: right;\n",
       "    }\n",
       "</style>\n",
       "<table border=\"1\" class=\"dataframe\">\n",
       "  <thead>\n",
       "    <tr style=\"text-align: right;\">\n",
       "      <th></th>\n",
       "      <th>iata_code</th>\n",
       "      <th>name</th>\n",
       "      <th>type</th>\n",
       "      <th>local_code</th>\n",
       "      <th>coordinates</th>\n",
       "      <th>port_city</th>\n",
       "      <th>elevation_ft</th>\n",
       "      <th>continent</th>\n",
       "      <th>iso_country</th>\n",
       "      <th>iso_region</th>\n",
       "      <th>municipality</th>\n",
       "      <th>gps_code</th>\n",
       "    </tr>\n",
       "  </thead>\n",
       "  <tbody>\n",
       "    <tr>\n",
       "      <th>16</th>\n",
       "      <td>NOR</td>\n",
       "      <td>NorÃ°fjÃ¶rÃ°ur Airport</td>\n",
       "      <td>small_airport</td>\n",
       "      <td>NaN</td>\n",
       "      <td>-13.746399879455566, 65.13189697265625</td>\n",
       "      <td>NORFOLK</td>\n",
       "      <td>13.0</td>\n",
       "      <td>EU</td>\n",
       "      <td>IS</td>\n",
       "      <td>IS-7</td>\n",
       "      <td>NorÃ°fjÃ¶rÃ°ur</td>\n",
       "      <td>BINF</td>\n",
       "    </tr>\n",
       "    <tr>\n",
       "      <th>53</th>\n",
       "      <td>BOO</td>\n",
       "      <td>BodÃ¸ Airport</td>\n",
       "      <td>large_airport</td>\n",
       "      <td>NaN</td>\n",
       "      <td>14.365300178527832, 67.26920318603516</td>\n",
       "      <td>BOOTHBAY HARBOR</td>\n",
       "      <td>42.0</td>\n",
       "      <td>EU</td>\n",
       "      <td>NO</td>\n",
       "      <td>NO-18</td>\n",
       "      <td>BodÃ¸</td>\n",
       "      <td>ENBO</td>\n",
       "    </tr>\n",
       "    <tr>\n",
       "      <th>63</th>\n",
       "      <td>WPB</td>\n",
       "      <td>Port BergÃ© Airport</td>\n",
       "      <td>small_airport</td>\n",
       "      <td>NaN</td>\n",
       "      <td>47.623587, -15.584286</td>\n",
       "      <td>WEST PALM BEACH</td>\n",
       "      <td>213.0</td>\n",
       "      <td>AF</td>\n",
       "      <td>MG</td>\n",
       "      <td>MG-M</td>\n",
       "      <td>Port BergÃ©</td>\n",
       "      <td>FMNG</td>\n",
       "    </tr>\n",
       "    <tr>\n",
       "      <th>65</th>\n",
       "      <td>FRK</td>\n",
       "      <td>FrÃ©gate Island Airport</td>\n",
       "      <td>small_airport</td>\n",
       "      <td>NaN</td>\n",
       "      <td>55.950001, -4.583</td>\n",
       "      <td>FREDERIKSTED</td>\n",
       "      <td>610.0</td>\n",
       "      <td>AF</td>\n",
       "      <td>SC</td>\n",
       "      <td>SC-15</td>\n",
       "      <td>FrÃ©gate Island</td>\n",
       "      <td>FSSF</td>\n",
       "    </tr>\n",
       "    <tr>\n",
       "      <th>332</th>\n",
       "      <td>MAD</td>\n",
       "      <td>Adolfo SuÃ¡rez MadridâBarajas Airport</td>\n",
       "      <td>large_airport</td>\n",
       "      <td>NaN</td>\n",
       "      <td>-3.56264, 40.471926</td>\n",
       "      <td>MADAWASKA</td>\n",
       "      <td>1998.0</td>\n",
       "      <td>EU</td>\n",
       "      <td>ES</td>\n",
       "      <td>ES-M</td>\n",
       "      <td>Madrid</td>\n",
       "      <td>LEMD</td>\n",
       "    </tr>\n",
       "    <tr>\n",
       "      <th>334</th>\n",
       "      <td>CHR</td>\n",
       "      <td>ChÃ¢teauroux-DÃ©ols \"Marcel Dassault\" Airport</td>\n",
       "      <td>medium_airport</td>\n",
       "      <td>NaN</td>\n",
       "      <td>1.721111, 46.860278</td>\n",
       "      <td>CHRISTIANSTED</td>\n",
       "      <td>529.0</td>\n",
       "      <td>EU</td>\n",
       "      <td>FR</td>\n",
       "      <td>FR-F</td>\n",
       "      <td>ChÃ¢teauroux/DÃ©ols</td>\n",
       "      <td>LFLX</td>\n",
       "    </tr>\n",
       "    <tr>\n",
       "      <th>338</th>\n",
       "      <td>PEV</td>\n",
       "      <td>PÃ©cs-PogÃ¡ny Airport</td>\n",
       "      <td>medium_airport</td>\n",
       "      <td>NaN</td>\n",
       "      <td>18.240996, 45.990898</td>\n",
       "      <td>PORT EVERGLADES</td>\n",
       "      <td>1000.0</td>\n",
       "      <td>EU</td>\n",
       "      <td>HU</td>\n",
       "      <td>HU-BA</td>\n",
       "      <td>PÃ©cs-PogÃ¡ny</td>\n",
       "      <td>LHPP</td>\n",
       "    </tr>\n",
       "    <tr>\n",
       "      <th>344</th>\n",
       "      <td>BGC</td>\n",
       "      <td>BraganÃ§a Airport</td>\n",
       "      <td>medium_airport</td>\n",
       "      <td>NaN</td>\n",
       "      <td>-6.70713, 41.8578</td>\n",
       "      <td>BRIDGEPORT</td>\n",
       "      <td>2241.0</td>\n",
       "      <td>EU</td>\n",
       "      <td>PT</td>\n",
       "      <td>PT-04</td>\n",
       "      <td>BraganÃ§a</td>\n",
       "      <td>LPBG</td>\n",
       "    </tr>\n",
       "    <tr>\n",
       "      <th>345</th>\n",
       "      <td>BCM</td>\n",
       "      <td>BacÄu Airport</td>\n",
       "      <td>medium_airport</td>\n",
       "      <td>NaN</td>\n",
       "      <td>26.91029930114746, 46.52190017700195</td>\n",
       "      <td>No PORT Code (BCM)</td>\n",
       "      <td>607.0</td>\n",
       "      <td>EU</td>\n",
       "      <td>RO</td>\n",
       "      <td>RO-BC</td>\n",
       "      <td>BacÄu</td>\n",
       "      <td>LRBC</td>\n",
       "    </tr>\n",
       "    <tr>\n",
       "      <th>347</th>\n",
       "      <td>CND</td>\n",
       "      <td>Mihail KogÄlniceanu International Airport</td>\n",
       "      <td>medium_airport</td>\n",
       "      <td>NaN</td>\n",
       "      <td>28.488300323486328, 44.36220169067383</td>\n",
       "      <td>KOGALNICEANU</td>\n",
       "      <td>353.0</td>\n",
       "      <td>EU</td>\n",
       "      <td>RO</td>\n",
       "      <td>RO-CT</td>\n",
       "      <td>ConstanÅ£a</td>\n",
       "      <td>LRCK</td>\n",
       "    </tr>\n",
       "    <tr>\n",
       "      <th>355</th>\n",
       "      <td>PON</td>\n",
       "      <td>PoptÃºn Airport</td>\n",
       "      <td>small_airport</td>\n",
       "      <td>NaN</td>\n",
       "      <td>-89.41609954834, 16.325799942017</td>\n",
       "      <td>PONCE</td>\n",
       "      <td>1801.0</td>\n",
       "      <td>NaN</td>\n",
       "      <td>GT</td>\n",
       "      <td>GT-PE</td>\n",
       "      <td>PoptÃºn</td>\n",
       "      <td>MGPP</td>\n",
       "    </tr>\n",
       "    <tr>\n",
       "      <th>359</th>\n",
       "      <td>AGU</td>\n",
       "      <td>JesÃºs TerÃ¡n Paredo International Airport</td>\n",
       "      <td>medium_airport</td>\n",
       "      <td>NaN</td>\n",
       "      <td>-102.318001, 21.705601</td>\n",
       "      <td>AGUADILLA</td>\n",
       "      <td>6112.0</td>\n",
       "      <td>NaN</td>\n",
       "      <td>MX</td>\n",
       "      <td>MX-AGU</td>\n",
       "      <td>Aguascalientes</td>\n",
       "      <td>MMAS</td>\n",
       "    </tr>\n",
       "    <tr>\n",
       "      <th>368</th>\n",
       "      <td>CUN</td>\n",
       "      <td>CancÃºn International Airport</td>\n",
       "      <td>large_airport</td>\n",
       "      <td>NaN</td>\n",
       "      <td>-86.8770980835, 21.036500930800003</td>\n",
       "      <td>CANCUN</td>\n",
       "      <td>22.0</td>\n",
       "      <td>NaN</td>\n",
       "      <td>MX</td>\n",
       "      <td>MX-ROO</td>\n",
       "      <td>CancÃºn</td>\n",
       "      <td>MMUN</td>\n",
       "    </tr>\n",
       "    <tr>\n",
       "      <th>428</th>\n",
       "      <td>BEL</td>\n",
       "      <td>Val de Cans/JÃºlio Cezar Ribeiro International...</td>\n",
       "      <td>large_airport</td>\n",
       "      <td>NaN</td>\n",
       "      <td>-48.4762992859, -1.3792500495900002</td>\n",
       "      <td>BELLINGHAM</td>\n",
       "      <td>54.0</td>\n",
       "      <td>SA</td>\n",
       "      <td>BR</td>\n",
       "      <td>BR-PA</td>\n",
       "      <td>BelÃ©m</td>\n",
       "      <td>SBBE</td>\n",
       "    </tr>\n",
       "    <tr>\n",
       "      <th>433</th>\n",
       "      <td>GRU</td>\n",
       "      <td>Guarulhos - Governador AndrÃ© Franco Montoro I...</td>\n",
       "      <td>large_airport</td>\n",
       "      <td>NaN</td>\n",
       "      <td>-46.47305679321289, -23.435556411743164</td>\n",
       "      <td>GUARULHOS INTL</td>\n",
       "      <td>2459.0</td>\n",
       "      <td>SA</td>\n",
       "      <td>BR</td>\n",
       "      <td>BR-SP</td>\n",
       "      <td>SÃ£o Paulo</td>\n",
       "      <td>SBGR</td>\n",
       "    </tr>\n",
       "    <tr>\n",
       "      <th>434</th>\n",
       "      <td>POO</td>\n",
       "      <td>PoÃ§os de Caldas - Embaixador Walther Moreira ...</td>\n",
       "      <td>medium_airport</td>\n",
       "      <td>NaN</td>\n",
       "      <td>-46.567901611328, -21.843000411987</td>\n",
       "      <td>PORTLAND</td>\n",
       "      <td>4135.0</td>\n",
       "      <td>SA</td>\n",
       "      <td>BR</td>\n",
       "      <td>BR-MG</td>\n",
       "      <td>PoÃ§os De Caldas</td>\n",
       "      <td>SBPC</td>\n",
       "    </tr>\n",
       "    <tr>\n",
       "      <th>435</th>\n",
       "      <td>TEC</td>\n",
       "      <td>TelÃªmaco Borba Airport</td>\n",
       "      <td>medium_airport</td>\n",
       "      <td>NaN</td>\n",
       "      <td>-50.6515998840332, -24.317800521850586</td>\n",
       "      <td>TECATE</td>\n",
       "      <td>2610.0</td>\n",
       "      <td>SA</td>\n",
       "      <td>BR</td>\n",
       "      <td>BR-PR</td>\n",
       "      <td>TelÃªmaco Borba</td>\n",
       "      <td>SBTL</td>\n",
       "    </tr>\n",
       "    <tr>\n",
       "      <th>436</th>\n",
       "      <td>TUR</td>\n",
       "      <td>TucuruÃ­ Airport</td>\n",
       "      <td>medium_airport</td>\n",
       "      <td>NaN</td>\n",
       "      <td>-49.72029876709, -3.7860100269318</td>\n",
       "      <td>TURNER</td>\n",
       "      <td>830.0</td>\n",
       "      <td>SA</td>\n",
       "      <td>BR</td>\n",
       "      <td>BR-PA</td>\n",
       "      <td>TucuruÃ­</td>\n",
       "      <td>SBTU</td>\n",
       "    </tr>\n",
       "    <tr>\n",
       "      <th>438</th>\n",
       "      <td>SCL</td>\n",
       "      <td>Comodoro Arturo Merino BenÃ­tez International ...</td>\n",
       "      <td>large_airport</td>\n",
       "      <td>NaN</td>\n",
       "      <td>-70.78579711914062, -33.393001556396484</td>\n",
       "      <td>ST CLAIR</td>\n",
       "      <td>1555.0</td>\n",
       "      <td>SA</td>\n",
       "      <td>CL</td>\n",
       "      <td>CL-RM</td>\n",
       "      <td>Santiago</td>\n",
       "      <td>SCEL</td>\n",
       "    </tr>\n",
       "    <tr>\n",
       "      <th>448</th>\n",
       "      <td>MDE</td>\n",
       "      <td>Jose Maria CÃ³rdova International Airport</td>\n",
       "      <td>medium_airport</td>\n",
       "      <td>MDE</td>\n",
       "      <td>-75.4231, 6.16454</td>\n",
       "      <td>MEDELLIN</td>\n",
       "      <td>6955.0</td>\n",
       "      <td>SA</td>\n",
       "      <td>CO</td>\n",
       "      <td>CO-ANT</td>\n",
       "      <td>MedellÃ­n</td>\n",
       "      <td>SKRG</td>\n",
       "    </tr>\n",
       "    <tr>\n",
       "      <th>452</th>\n",
       "      <td>LIM</td>\n",
       "      <td>Jorge ChÃ¡vez International Airport</td>\n",
       "      <td>large_airport</td>\n",
       "      <td>NaN</td>\n",
       "      <td>-77.114305, -12.0219</td>\n",
       "      <td>LIMESTONE</td>\n",
       "      <td>113.0</td>\n",
       "      <td>SA</td>\n",
       "      <td>PE</td>\n",
       "      <td>PE-LIM</td>\n",
       "      <td>Lima</td>\n",
       "      <td>SPJC</td>\n",
       "    </tr>\n",
       "    <tr>\n",
       "      <th>458</th>\n",
       "      <td>PNG</td>\n",
       "      <td>ParanaguÃ¡ Airport</td>\n",
       "      <td>small_airport</td>\n",
       "      <td>SSPG</td>\n",
       "      <td>-48.53120040893555, -25.54010009765625</td>\n",
       "      <td>PORT ANGELES</td>\n",
       "      <td>16.0</td>\n",
       "      <td>SA</td>\n",
       "      <td>BR</td>\n",
       "      <td>BR-PR</td>\n",
       "      <td>ParanaguÃ¡</td>\n",
       "      <td>SSPG</td>\n",
       "    </tr>\n",
       "    <tr>\n",
       "      <th>459</th>\n",
       "      <td>PBB</td>\n",
       "      <td>ParanaÃ­ba Airport</td>\n",
       "      <td>small_airport</td>\n",
       "      <td>SSPN</td>\n",
       "      <td>-51.19940185546875, -19.651199340820312</td>\n",
       "      <td>PEACE BRIDGE</td>\n",
       "      <td>1446.0</td>\n",
       "      <td>SA</td>\n",
       "      <td>BR</td>\n",
       "      <td>BR-MS</td>\n",
       "      <td>ParanaÃ­ba</td>\n",
       "      <td>SSPN</td>\n",
       "    </tr>\n",
       "    <tr>\n",
       "      <th>461</th>\n",
       "      <td>BLA</td>\n",
       "      <td>General JosÃ© Antonio Anzoategui International...</td>\n",
       "      <td>large_airport</td>\n",
       "      <td>NaN</td>\n",
       "      <td>-64.692222, 10.111111</td>\n",
       "      <td>BLAINE</td>\n",
       "      <td>30.0</td>\n",
       "      <td>SA</td>\n",
       "      <td>VE</td>\n",
       "      <td>VE-B</td>\n",
       "      <td>Barcelona</td>\n",
       "      <td>SVBC</td>\n",
       "    </tr>\n",
       "    <tr>\n",
       "      <th>496</th>\n",
       "      <td>VIB</td>\n",
       "      <td>Villa ConstituciÃ³n Airport</td>\n",
       "      <td>closed</td>\n",
       "      <td>NaN</td>\n",
       "      <td>-111.6874, 25.0552</td>\n",
       "      <td>VETERAN INTL BRIDGE</td>\n",
       "      <td>175.0</td>\n",
       "      <td>NaN</td>\n",
       "      <td>MX</td>\n",
       "      <td>MX-BCS</td>\n",
       "      <td>Ciudad ConstituciÃ³n</td>\n",
       "      <td>NaN</td>\n",
       "    </tr>\n",
       "  </tbody>\n",
       "</table>\n",
       "</div>"
      ],
      "text/plain": [
       "    iata_code                                               name  \\\n",
       "16        NOR                             NorÃ°fjÃ¶rÃ°ur Airport   \n",
       "53        BOO                                      BodÃ¸ Airport   \n",
       "63        WPB                                Port BergÃ© Airport   \n",
       "65        FRK                            FrÃ©gate Island Airport   \n",
       "332       MAD            Adolfo SuÃ¡rez MadridâBarajas Airport   \n",
       "334       CHR      ChÃ¢teauroux-DÃ©ols \"Marcel Dassault\" Airport   \n",
       "338       PEV                              PÃ©cs-PogÃ¡ny Airport   \n",
       "344       BGC                                  BraganÃ§a Airport   \n",
       "345       BCM                                     BacÄu Airport   \n",
       "347       CND         Mihail KogÄlniceanu International Airport   \n",
       "355       PON                                    PoptÃºn Airport   \n",
       "359       AGU         JesÃºs TerÃ¡n Paredo International Airport   \n",
       "368       CUN                      CancÃºn International Airport   \n",
       "428       BEL  Val de Cans/JÃºlio Cezar Ribeiro International...   \n",
       "433       GRU  Guarulhos - Governador AndrÃ© Franco Montoro I...   \n",
       "434       POO  PoÃ§os de Caldas - Embaixador Walther Moreira ...   \n",
       "435       TEC                            TelÃªmaco Borba Airport   \n",
       "436       TUR                                   TucuruÃ­ Airport   \n",
       "438       SCL  Comodoro Arturo Merino BenÃ­tez International ...   \n",
       "448       MDE          Jose Maria CÃ³rdova International Airport   \n",
       "452       LIM                Jorge ChÃ¡vez International Airport   \n",
       "458       PNG                                 ParanaguÃ¡ Airport   \n",
       "459       PBB                                 ParanaÃ­ba Airport   \n",
       "461       BLA  General JosÃ© Antonio Anzoategui International...   \n",
       "496       VIB                        Villa ConstituciÃ³n Airport   \n",
       "\n",
       "               type local_code                              coordinates  \\\n",
       "16    small_airport        NaN   -13.746399879455566, 65.13189697265625   \n",
       "53    large_airport        NaN    14.365300178527832, 67.26920318603516   \n",
       "63    small_airport        NaN                    47.623587, -15.584286   \n",
       "65    small_airport        NaN                        55.950001, -4.583   \n",
       "332   large_airport        NaN                      -3.56264, 40.471926   \n",
       "334  medium_airport        NaN                      1.721111, 46.860278   \n",
       "338  medium_airport        NaN                     18.240996, 45.990898   \n",
       "344  medium_airport        NaN                        -6.70713, 41.8578   \n",
       "345  medium_airport        NaN     26.91029930114746, 46.52190017700195   \n",
       "347  medium_airport        NaN    28.488300323486328, 44.36220169067383   \n",
       "355   small_airport        NaN         -89.41609954834, 16.325799942017   \n",
       "359  medium_airport        NaN                   -102.318001, 21.705601   \n",
       "368   large_airport        NaN       -86.8770980835, 21.036500930800003   \n",
       "428   large_airport        NaN      -48.4762992859, -1.3792500495900002   \n",
       "433   large_airport        NaN  -46.47305679321289, -23.435556411743164   \n",
       "434  medium_airport        NaN       -46.567901611328, -21.843000411987   \n",
       "435  medium_airport        NaN   -50.6515998840332, -24.317800521850586   \n",
       "436  medium_airport        NaN        -49.72029876709, -3.7860100269318   \n",
       "438   large_airport        NaN  -70.78579711914062, -33.393001556396484   \n",
       "448  medium_airport        MDE                        -75.4231, 6.16454   \n",
       "452   large_airport        NaN                     -77.114305, -12.0219   \n",
       "458   small_airport       SSPG   -48.53120040893555, -25.54010009765625   \n",
       "459   small_airport       SSPN  -51.19940185546875, -19.651199340820312   \n",
       "461   large_airport        NaN                    -64.692222, 10.111111   \n",
       "496          closed        NaN                       -111.6874, 25.0552   \n",
       "\n",
       "               port_city  elevation_ft continent iso_country iso_region  \\\n",
       "16               NORFOLK          13.0        EU          IS       IS-7   \n",
       "53       BOOTHBAY HARBOR          42.0        EU          NO      NO-18   \n",
       "63       WEST PALM BEACH         213.0        AF          MG       MG-M   \n",
       "65          FREDERIKSTED         610.0        AF          SC      SC-15   \n",
       "332            MADAWASKA        1998.0        EU          ES       ES-M   \n",
       "334        CHRISTIANSTED         529.0        EU          FR       FR-F   \n",
       "338      PORT EVERGLADES        1000.0        EU          HU      HU-BA   \n",
       "344           BRIDGEPORT        2241.0        EU          PT      PT-04   \n",
       "345   No PORT Code (BCM)         607.0        EU          RO      RO-BC   \n",
       "347         KOGALNICEANU         353.0        EU          RO      RO-CT   \n",
       "355                PONCE        1801.0       NaN          GT      GT-PE   \n",
       "359            AGUADILLA        6112.0       NaN          MX     MX-AGU   \n",
       "368               CANCUN          22.0       NaN          MX     MX-ROO   \n",
       "428           BELLINGHAM          54.0        SA          BR      BR-PA   \n",
       "433       GUARULHOS INTL        2459.0        SA          BR      BR-SP   \n",
       "434             PORTLAND        4135.0        SA          BR      BR-MG   \n",
       "435               TECATE        2610.0        SA          BR      BR-PR   \n",
       "436               TURNER         830.0        SA          BR      BR-PA   \n",
       "438             ST CLAIR        1555.0        SA          CL      CL-RM   \n",
       "448             MEDELLIN        6955.0        SA          CO     CO-ANT   \n",
       "452            LIMESTONE         113.0        SA          PE     PE-LIM   \n",
       "458         PORT ANGELES          16.0        SA          BR      BR-PR   \n",
       "459         PEACE BRIDGE        1446.0        SA          BR      BR-MS   \n",
       "461               BLAINE          30.0        SA          VE       VE-B   \n",
       "496  VETERAN INTL BRIDGE         175.0       NaN          MX     MX-BCS   \n",
       "\n",
       "             municipality gps_code  \n",
       "16         NorÃ°fjÃ¶rÃ°ur     BINF  \n",
       "53                  BodÃ¸     ENBO  \n",
       "63            Port BergÃ©     FMNG  \n",
       "65        FrÃ©gate Island     FSSF  \n",
       "332                Madrid     LEMD  \n",
       "334   ChÃ¢teauroux/DÃ©ols     LFLX  \n",
       "338         PÃ©cs-PogÃ¡ny     LHPP  \n",
       "344             BraganÃ§a     LPBG  \n",
       "345                BacÄu     LRBC  \n",
       "347            ConstanÅ£a     LRCK  \n",
       "355               PoptÃºn     MGPP  \n",
       "359        Aguascalientes     MMAS  \n",
       "368               CancÃºn     MMUN  \n",
       "428                BelÃ©m     SBBE  \n",
       "433            SÃ£o Paulo     SBGR  \n",
       "434      PoÃ§os De Caldas     SBPC  \n",
       "435       TelÃªmaco Borba     SBTL  \n",
       "436              TucuruÃ­     SBTU  \n",
       "438              Santiago     SCEL  \n",
       "448             MedellÃ­n     SKRG  \n",
       "452                  Lima     SPJC  \n",
       "458            ParanaguÃ¡     SSPG  \n",
       "459            ParanaÃ­ba     SSPN  \n",
       "461             Barcelona     SVBC  \n",
       "496  Ciudad ConstituciÃ³n      NaN  "
      ]
     },
     "execution_count": 26,
     "metadata": {},
     "output_type": "execute_result"
    }
   ],
   "source": [
    "# Function to check for non-ascii data\n",
    "# look out for Name and Municipality columns\n",
    "\n",
    "def is_not_ascii(string):\n",
    "    return string is not None and any([ord(s) >= 128 for s in string])\n",
    "\n",
    "df_airport_codes[df_airport_codes['name'].apply(is_not_ascii)]"
   ]
  },
  {
   "cell_type": "code",
   "execution_count": 27,
   "metadata": {
    "editable": true
   },
   "outputs": [],
   "source": [
    "# Fill in the NA column of municipality with a string\n",
    "\n",
    "df_airport_codes[\"municipality\"].fillna(\"NA\", inplace = True)"
   ]
  },
  {
   "cell_type": "code",
   "execution_count": 285,
   "metadata": {
    "editable": true
   },
   "outputs": [
    {
     "data": {
      "text/plain": [
       "\"def is_not_ascii(string):\\n    return string is not None and any([ord(s) >= 128 for s in string])\\n\\ndf_airport_codes[df_airport_codes['municipality'].apply(is_not_ascii)]\\n\""
      ]
     },
     "execution_count": 285,
     "metadata": {},
     "output_type": "execute_result"
    }
   ],
   "source": [
    "# checking for non-ascii data\n",
    "\n",
    "'''def is_not_ascii(string):\n",
    "    return string is not None and any([ord(s) >= 128 for s in string])\n",
    "\n",
    "df_airport_codes[df_airport_codes['municipality'].apply(is_not_ascii)]\n",
    "'''"
   ]
  },
  {
   "cell_type": "code",
   "execution_count": 28,
   "metadata": {
    "editable": true
   },
   "outputs": [],
   "source": [
    "# Function to convert non-ASCII to ASCII characters\n",
    "def convertToAscii(string):\n",
    "    return string.encode(\"ascii\",\"ignore\").decode()\n",
    "    \n",
    "    '''string_nonASCII = string\n",
    "    string_encode = string_nonASCII.encode(\"ascii\", \"ignore\")\n",
    "    #print(string_encode)\n",
    "    string_decode = string_encode.decode()\n",
    "    return string_decode'''\n",
    "    "
   ]
  },
  {
   "cell_type": "code",
   "execution_count": 241,
   "metadata": {
    "editable": true
   },
   "outputs": [],
   "source": [
    "#def remove_non_ascii(s):\n",
    "#    return \"\".join(c for c in s if ord(c)<128)\n",
    "#df_airport_codes['name'] = df_airport_codes['name'].apply(remove_non_ascii)"
   ]
  },
  {
   "cell_type": "code",
   "execution_count": 29,
   "metadata": {
    "editable": true
   },
   "outputs": [],
   "source": [
    "# Apply the function on name and municipality columns of the data frame\n",
    "\n",
    "df_airport_codes['name'] = df_airport_codes['name'].apply(convertToAscii)"
   ]
  },
  {
   "cell_type": "code",
   "execution_count": 30,
   "metadata": {
    "editable": true
   },
   "outputs": [],
   "source": [
    "df_airport_codes['municipality'] = df_airport_codes['municipality'].apply(convertToAscii)"
   ]
  },
  {
   "cell_type": "code",
   "execution_count": 31,
   "metadata": {
    "editable": true
   },
   "outputs": [
    {
     "data": {
      "text/html": [
       "<div>\n",
       "<style scoped>\n",
       "    .dataframe tbody tr th:only-of-type {\n",
       "        vertical-align: middle;\n",
       "    }\n",
       "\n",
       "    .dataframe tbody tr th {\n",
       "        vertical-align: top;\n",
       "    }\n",
       "\n",
       "    .dataframe thead th {\n",
       "        text-align: right;\n",
       "    }\n",
       "</style>\n",
       "<table border=\"1\" class=\"dataframe\">\n",
       "  <thead>\n",
       "    <tr style=\"text-align: right;\">\n",
       "      <th></th>\n",
       "      <th>iata_code</th>\n",
       "      <th>name</th>\n",
       "      <th>type</th>\n",
       "      <th>local_code</th>\n",
       "      <th>coordinates</th>\n",
       "      <th>port_city</th>\n",
       "      <th>elevation_ft</th>\n",
       "      <th>continent</th>\n",
       "      <th>iso_country</th>\n",
       "      <th>iso_region</th>\n",
       "      <th>municipality</th>\n",
       "      <th>gps_code</th>\n",
       "    </tr>\n",
       "  </thead>\n",
       "  <tbody>\n",
       "    <tr>\n",
       "      <th>0</th>\n",
       "      <td>TKI</td>\n",
       "      <td>Tokeen Seaplane Base</td>\n",
       "      <td>seaplane_base</td>\n",
       "      <td>57A</td>\n",
       "      <td>-133.32699585, 55.9370994568</td>\n",
       "      <td>TOKEEN</td>\n",
       "      <td>NaN</td>\n",
       "      <td>NaN</td>\n",
       "      <td>US</td>\n",
       "      <td>US-AK</td>\n",
       "      <td>Tokeen</td>\n",
       "      <td>57A</td>\n",
       "    </tr>\n",
       "    <tr>\n",
       "      <th>1</th>\n",
       "      <td>BKF</td>\n",
       "      <td>Lake Brooks Seaplane Base</td>\n",
       "      <td>seaplane_base</td>\n",
       "      <td>5Z9</td>\n",
       "      <td>-155.77699279785, 58.554798126221</td>\n",
       "      <td>No PORT Code (BKF)</td>\n",
       "      <td>36.0</td>\n",
       "      <td>NaN</td>\n",
       "      <td>US</td>\n",
       "      <td>US-AK</td>\n",
       "      <td>Katmai National Park</td>\n",
       "      <td>5Z9</td>\n",
       "    </tr>\n",
       "    <tr>\n",
       "      <th>2</th>\n",
       "      <td>AXB</td>\n",
       "      <td>Maxson Airfield</td>\n",
       "      <td>small_airport</td>\n",
       "      <td>89NY</td>\n",
       "      <td>-75.90034, 44.312002</td>\n",
       "      <td>ALEXANDRIA BAY</td>\n",
       "      <td>340.0</td>\n",
       "      <td>NaN</td>\n",
       "      <td>US</td>\n",
       "      <td>US-NY</td>\n",
       "      <td>Alexandria Bay</td>\n",
       "      <td>89NY</td>\n",
       "    </tr>\n",
       "    <tr>\n",
       "      <th>3</th>\n",
       "      <td>FRE</td>\n",
       "      <td>Fera/Maringe Airport</td>\n",
       "      <td>small_airport</td>\n",
       "      <td>NaN</td>\n",
       "      <td>159.576996, -8.1075</td>\n",
       "      <td>FRESNO</td>\n",
       "      <td>NaN</td>\n",
       "      <td>OC</td>\n",
       "      <td>SB</td>\n",
       "      <td>SB-IS</td>\n",
       "      <td>Fera Island</td>\n",
       "      <td>AGGF</td>\n",
       "    </tr>\n",
       "    <tr>\n",
       "      <th>4</th>\n",
       "      <td>ANZ</td>\n",
       "      <td>Angus Downs Airport</td>\n",
       "      <td>small_airport</td>\n",
       "      <td>NaN</td>\n",
       "      <td>132.2748, -25.0325</td>\n",
       "      <td>ANZALDUAS</td>\n",
       "      <td>1724.0</td>\n",
       "      <td>OC</td>\n",
       "      <td>AU</td>\n",
       "      <td>AU-NT</td>\n",
       "      <td>Angus Downs Station</td>\n",
       "      <td>NaN</td>\n",
       "    </tr>\n",
       "    <tr>\n",
       "      <th>5</th>\n",
       "      <td>COB</td>\n",
       "      <td>Coolibah Airport</td>\n",
       "      <td>small_airport</td>\n",
       "      <td>NaN</td>\n",
       "      <td>130.96200561523438, -15.548299789428711</td>\n",
       "      <td>COBURN GORE</td>\n",
       "      <td>NaN</td>\n",
       "      <td>OC</td>\n",
       "      <td>AU</td>\n",
       "      <td>AU-NT</td>\n",
       "      <td>Coolibah</td>\n",
       "      <td>NaN</td>\n",
       "    </tr>\n",
       "    <tr>\n",
       "      <th>6</th>\n",
       "      <td>CRY</td>\n",
       "      <td>Carlton Hill Airport</td>\n",
       "      <td>small_airport</td>\n",
       "      <td>NaN</td>\n",
       "      <td>128.53399658203125, -15.501899719238281</td>\n",
       "      <td>CARBURY</td>\n",
       "      <td>NaN</td>\n",
       "      <td>OC</td>\n",
       "      <td>AU</td>\n",
       "      <td>AU-WA</td>\n",
       "      <td>Carlton Hill</td>\n",
       "      <td>NaN</td>\n",
       "    </tr>\n",
       "    <tr>\n",
       "      <th>7</th>\n",
       "      <td>SWB</td>\n",
       "      <td>Shaw River Airport</td>\n",
       "      <td>small_airport</td>\n",
       "      <td>NaN</td>\n",
       "      <td>119.36199951171875, -21.510299682617188</td>\n",
       "      <td>SWANTON</td>\n",
       "      <td>NaN</td>\n",
       "      <td>OC</td>\n",
       "      <td>AU</td>\n",
       "      <td>AU-WA</td>\n",
       "      <td>Shaw River</td>\n",
       "      <td>NaN</td>\n",
       "    </tr>\n",
       "    <tr>\n",
       "      <th>8</th>\n",
       "      <td>EPT</td>\n",
       "      <td>Eliptamin Airport</td>\n",
       "      <td>small_airport</td>\n",
       "      <td>ELP</td>\n",
       "      <td>141.6779, -5.0412</td>\n",
       "      <td>EASTPORT MUNICIPAL</td>\n",
       "      <td>4825.0</td>\n",
       "      <td>OC</td>\n",
       "      <td>PG</td>\n",
       "      <td>PG-SAN</td>\n",
       "      <td>Eliptamin</td>\n",
       "      <td>AYEL</td>\n",
       "    </tr>\n",
       "    <tr>\n",
       "      <th>9</th>\n",
       "      <td>HNN</td>\n",
       "      <td>Honinabi Airport</td>\n",
       "      <td>small_airport</td>\n",
       "      <td>HBI</td>\n",
       "      <td>142.1771, -16.2457</td>\n",
       "      <td>HANNAH</td>\n",
       "      <td>452.0</td>\n",
       "      <td>OC</td>\n",
       "      <td>PG</td>\n",
       "      <td>PG-WPD</td>\n",
       "      <td>Honinabi</td>\n",
       "      <td>AYHH</td>\n",
       "    </tr>\n",
       "    <tr>\n",
       "      <th>10</th>\n",
       "      <td>MAG</td>\n",
       "      <td>Madang Airport</td>\n",
       "      <td>medium_airport</td>\n",
       "      <td>NaN</td>\n",
       "      <td>145.789001465, -5.20707988739</td>\n",
       "      <td>MCGUIRE AFB</td>\n",
       "      <td>20.0</td>\n",
       "      <td>OC</td>\n",
       "      <td>PG</td>\n",
       "      <td>PG-MPM</td>\n",
       "      <td>Madang</td>\n",
       "      <td>AYMD</td>\n",
       "    </tr>\n",
       "    <tr>\n",
       "      <th>11</th>\n",
       "      <td>MAS</td>\n",
       "      <td>Momote Airport</td>\n",
       "      <td>medium_airport</td>\n",
       "      <td>NaN</td>\n",
       "      <td>147.423996, -2.06189</td>\n",
       "      <td>MASSENA</td>\n",
       "      <td>12.0</td>\n",
       "      <td>OC</td>\n",
       "      <td>PG</td>\n",
       "      <td>PG-MRL</td>\n",
       "      <td>Manus Island</td>\n",
       "      <td>AYMO</td>\n",
       "    </tr>\n",
       "    <tr>\n",
       "      <th>12</th>\n",
       "      <td>POM</td>\n",
       "      <td>Port Moresby Jacksons International Airport</td>\n",
       "      <td>large_airport</td>\n",
       "      <td>NaN</td>\n",
       "      <td>147.22000122070312, -9.443380355834961</td>\n",
       "      <td>PORTLAND</td>\n",
       "      <td>146.0</td>\n",
       "      <td>OC</td>\n",
       "      <td>PG</td>\n",
       "      <td>PG-NCD</td>\n",
       "      <td>Port Moresby</td>\n",
       "      <td>AYPY</td>\n",
       "    </tr>\n",
       "    <tr>\n",
       "      <th>13</th>\n",
       "      <td>MRH</td>\n",
       "      <td>May River Airstrip</td>\n",
       "      <td>small_airport</td>\n",
       "      <td>MRV</td>\n",
       "      <td>141.785, -4.3615</td>\n",
       "      <td>MOREHEAD CITY</td>\n",
       "      <td>107.0</td>\n",
       "      <td>OC</td>\n",
       "      <td>PG</td>\n",
       "      <td>PG-ESW</td>\n",
       "      <td>May River</td>\n",
       "      <td>AYRV</td>\n",
       "    </tr>\n",
       "    <tr>\n",
       "      <th>14</th>\n",
       "      <td>SPV</td>\n",
       "      <td>Sepik Plains Airport</td>\n",
       "      <td>small_airport</td>\n",
       "      <td>SPP</td>\n",
       "      <td>143.6734, -3.8821</td>\n",
       "      <td>PAPUA</td>\n",
       "      <td>230.0</td>\n",
       "      <td>OC</td>\n",
       "      <td>PG</td>\n",
       "      <td>PG-ESW</td>\n",
       "      <td>Sepik Plains</td>\n",
       "      <td>AYSQ</td>\n",
       "    </tr>\n",
       "    <tr>\n",
       "      <th>15</th>\n",
       "      <td>BEA</td>\n",
       "      <td>Bereina Airport</td>\n",
       "      <td>closed</td>\n",
       "      <td>NaN</td>\n",
       "      <td>146.5083, -8.64</td>\n",
       "      <td>BEAUMONT</td>\n",
       "      <td>58.0</td>\n",
       "      <td>OC</td>\n",
       "      <td>PG</td>\n",
       "      <td>PG-CPM</td>\n",
       "      <td>Bereina Mission</td>\n",
       "      <td>NaN</td>\n",
       "    </tr>\n",
       "    <tr>\n",
       "      <th>16</th>\n",
       "      <td>NOR</td>\n",
       "      <td>Norfjrur Airport</td>\n",
       "      <td>small_airport</td>\n",
       "      <td>NaN</td>\n",
       "      <td>-13.746399879455566, 65.13189697265625</td>\n",
       "      <td>NORFOLK</td>\n",
       "      <td>13.0</td>\n",
       "      <td>EU</td>\n",
       "      <td>IS</td>\n",
       "      <td>IS-7</td>\n",
       "      <td>Norfjrur</td>\n",
       "      <td>BINF</td>\n",
       "    </tr>\n",
       "    <tr>\n",
       "      <th>17</th>\n",
       "      <td>THO</td>\n",
       "      <td>Thorshofn Airport</td>\n",
       "      <td>small_airport</td>\n",
       "      <td>NaN</td>\n",
       "      <td>-15.335599899291992, 66.21849822998047</td>\n",
       "      <td>THOUSAND ISLAND BRIDGE</td>\n",
       "      <td>65.0</td>\n",
       "      <td>EU</td>\n",
       "      <td>IS</td>\n",
       "      <td>IS-6</td>\n",
       "      <td>Thorshofn</td>\n",
       "      <td>BITN</td>\n",
       "    </tr>\n",
       "    <tr>\n",
       "      <th>18</th>\n",
       "      <td>BRG</td>\n",
       "      <td>Whitesburg Municipal Airport</td>\n",
       "      <td>closed</td>\n",
       "      <td>NaN</td>\n",
       "      <td>-82.8742, 37.2219</td>\n",
       "      <td>BURLINGTON</td>\n",
       "      <td>1985.0</td>\n",
       "      <td>NaN</td>\n",
       "      <td>US</td>\n",
       "      <td>US-KY</td>\n",
       "      <td>Whitesburg</td>\n",
       "      <td>NaN</td>\n",
       "    </tr>\n",
       "    <tr>\n",
       "      <th>19</th>\n",
       "      <td>LAK</td>\n",
       "      <td>Aklavik/Freddie Carmichael Airport</td>\n",
       "      <td>medium_airport</td>\n",
       "      <td>NaN</td>\n",
       "      <td>-135.00599, 68.223297</td>\n",
       "      <td>LAKE CHARLES</td>\n",
       "      <td>23.0</td>\n",
       "      <td>NaN</td>\n",
       "      <td>CA</td>\n",
       "      <td>CA-NT</td>\n",
       "      <td>Aklavik</td>\n",
       "      <td>CYKD</td>\n",
       "    </tr>\n",
       "  </tbody>\n",
       "</table>\n",
       "</div>"
      ],
      "text/plain": [
       "   iata_code                                         name            type  \\\n",
       "0        TKI                         Tokeen Seaplane Base   seaplane_base   \n",
       "1        BKF                    Lake Brooks Seaplane Base   seaplane_base   \n",
       "2        AXB                              Maxson Airfield   small_airport   \n",
       "3        FRE                         Fera/Maringe Airport   small_airport   \n",
       "4        ANZ                          Angus Downs Airport   small_airport   \n",
       "5        COB                             Coolibah Airport   small_airport   \n",
       "6        CRY                         Carlton Hill Airport   small_airport   \n",
       "7        SWB                           Shaw River Airport   small_airport   \n",
       "8        EPT                            Eliptamin Airport   small_airport   \n",
       "9        HNN                             Honinabi Airport   small_airport   \n",
       "10       MAG                               Madang Airport  medium_airport   \n",
       "11       MAS                               Momote Airport  medium_airport   \n",
       "12       POM  Port Moresby Jacksons International Airport   large_airport   \n",
       "13       MRH                           May River Airstrip   small_airport   \n",
       "14       SPV                         Sepik Plains Airport   small_airport   \n",
       "15       BEA                              Bereina Airport          closed   \n",
       "16       NOR                             Norfjrur Airport   small_airport   \n",
       "17       THO                            Thorshofn Airport   small_airport   \n",
       "18       BRG                 Whitesburg Municipal Airport          closed   \n",
       "19       LAK           Aklavik/Freddie Carmichael Airport  medium_airport   \n",
       "\n",
       "   local_code                              coordinates  \\\n",
       "0         57A             -133.32699585, 55.9370994568   \n",
       "1         5Z9        -155.77699279785, 58.554798126221   \n",
       "2        89NY                     -75.90034, 44.312002   \n",
       "3         NaN                      159.576996, -8.1075   \n",
       "4         NaN                       132.2748, -25.0325   \n",
       "5         NaN  130.96200561523438, -15.548299789428711   \n",
       "6         NaN  128.53399658203125, -15.501899719238281   \n",
       "7         NaN  119.36199951171875, -21.510299682617188   \n",
       "8         ELP                        141.6779, -5.0412   \n",
       "9         HBI                       142.1771, -16.2457   \n",
       "10        NaN            145.789001465, -5.20707988739   \n",
       "11        NaN                     147.423996, -2.06189   \n",
       "12        NaN   147.22000122070312, -9.443380355834961   \n",
       "13        MRV                         141.785, -4.3615   \n",
       "14        SPP                        143.6734, -3.8821   \n",
       "15        NaN                          146.5083, -8.64   \n",
       "16        NaN   -13.746399879455566, 65.13189697265625   \n",
       "17        NaN   -15.335599899291992, 66.21849822998047   \n",
       "18        NaN                        -82.8742, 37.2219   \n",
       "19        NaN                    -135.00599, 68.223297   \n",
       "\n",
       "                 port_city  elevation_ft continent iso_country iso_region  \\\n",
       "0                   TOKEEN           NaN       NaN          US      US-AK   \n",
       "1       No PORT Code (BKF)          36.0       NaN          US      US-AK   \n",
       "2           ALEXANDRIA BAY         340.0       NaN          US      US-NY   \n",
       "3                   FRESNO           NaN        OC          SB      SB-IS   \n",
       "4                ANZALDUAS        1724.0        OC          AU      AU-NT   \n",
       "5              COBURN GORE           NaN        OC          AU      AU-NT   \n",
       "6                  CARBURY           NaN        OC          AU      AU-WA   \n",
       "7                  SWANTON           NaN        OC          AU      AU-WA   \n",
       "8       EASTPORT MUNICIPAL        4825.0        OC          PG     PG-SAN   \n",
       "9                   HANNAH         452.0        OC          PG     PG-WPD   \n",
       "10             MCGUIRE AFB          20.0        OC          PG     PG-MPM   \n",
       "11                 MASSENA          12.0        OC          PG     PG-MRL   \n",
       "12                PORTLAND         146.0        OC          PG     PG-NCD   \n",
       "13           MOREHEAD CITY         107.0        OC          PG     PG-ESW   \n",
       "14                   PAPUA         230.0        OC          PG     PG-ESW   \n",
       "15                BEAUMONT          58.0        OC          PG     PG-CPM   \n",
       "16                 NORFOLK          13.0        EU          IS       IS-7   \n",
       "17  THOUSAND ISLAND BRIDGE          65.0        EU          IS       IS-6   \n",
       "18              BURLINGTON        1985.0       NaN          US      US-KY   \n",
       "19            LAKE CHARLES          23.0       NaN          CA      CA-NT   \n",
       "\n",
       "            municipality gps_code  \n",
       "0                 Tokeen      57A  \n",
       "1   Katmai National Park      5Z9  \n",
       "2         Alexandria Bay     89NY  \n",
       "3            Fera Island     AGGF  \n",
       "4    Angus Downs Station      NaN  \n",
       "5               Coolibah      NaN  \n",
       "6           Carlton Hill      NaN  \n",
       "7             Shaw River      NaN  \n",
       "8              Eliptamin     AYEL  \n",
       "9               Honinabi     AYHH  \n",
       "10                Madang     AYMD  \n",
       "11          Manus Island     AYMO  \n",
       "12          Port Moresby     AYPY  \n",
       "13             May River     AYRV  \n",
       "14          Sepik Plains     AYSQ  \n",
       "15       Bereina Mission      NaN  \n",
       "16              Norfjrur     BINF  \n",
       "17             Thorshofn     BITN  \n",
       "18            Whitesburg      NaN  \n",
       "19               Aklavik     CYKD  "
      ]
     },
     "execution_count": 31,
     "metadata": {},
     "output_type": "execute_result"
    }
   ],
   "source": [
    "# Check the data after modification\n",
    "df_airport_codes.head(20)"
   ]
  },
  {
   "cell_type": "code",
   "execution_count": 32,
   "metadata": {
    "editable": true
   },
   "outputs": [
    {
     "data": {
      "text/plain": [
       "iata_code         0\n",
       "name              0\n",
       "type              0\n",
       "local_code      239\n",
       "coordinates       0\n",
       "port_city         0\n",
       "elevation_ft     17\n",
       "continent       307\n",
       "iso_country       1\n",
       "iso_region        0\n",
       "municipality      0\n",
       "gps_code         27\n",
       "dtype: int64"
      ]
     },
     "execution_count": 32,
     "metadata": {},
     "output_type": "execute_result"
    }
   ],
   "source": [
    "# Re-check the values before modification\n",
    "\n",
    "chk_nan = df_airport_codes.isnull().sum()\n",
    "chk_nan"
   ]
  },
  {
   "cell_type": "code",
   "execution_count": 33,
   "metadata": {
    "editable": true
   },
   "outputs": [],
   "source": [
    "# Fill elevation_ft column with 0 for NaN values\n",
    "df_airport_codes['elevation_ft'] = df_airport_codes['elevation_ft'].fillna(0)\n"
   ]
  },
  {
   "cell_type": "code",
   "execution_count": 34,
   "metadata": {
    "editable": true
   },
   "outputs": [
    {
     "data": {
      "text/plain": [
       "iata_code         0\n",
       "name              0\n",
       "type              0\n",
       "local_code      239\n",
       "coordinates       0\n",
       "port_city         0\n",
       "elevation_ft      0\n",
       "continent       307\n",
       "iso_country       1\n",
       "iso_region        0\n",
       "municipality      0\n",
       "gps_code         27\n",
       "dtype: int64"
      ]
     },
     "execution_count": 34,
     "metadata": {},
     "output_type": "execute_result"
    }
   ],
   "source": [
    "chk_nan = df_airport_codes.isnull().sum()\n",
    "chk_nan"
   ]
  },
  {
   "cell_type": "code",
   "execution_count": 35,
   "metadata": {
    "editable": true
   },
   "outputs": [],
   "source": [
    "# Save the usa data into a csv, which will be used to load the immigration table\n",
    "df_airport_codes.to_csv('data/df_airport_codes.csv',sep=';', index=False, encoding = \"utf-8\")"
   ]
  },
  {
   "cell_type": "code",
   "execution_count": 296,
   "metadata": {
    "editable": true
   },
   "outputs": [
    {
     "data": {
      "text/plain": [
       "\"with open('data/df_airport_codes.csv', 'r') as f:\\n    next(f) # Skip the header row.\\n    cur.copy_from(f, 'airports', sep=';')\\n\\nconn.commit()\""
      ]
     },
     "execution_count": 296,
     "metadata": {},
     "output_type": "execute_result"
    }
   ],
   "source": [
    "# Load the Airport table with the csv file, as this is faster compared to loading from data frame\n",
    "\n",
    "'''with open('data/df_airport_codes.csv', 'r') as f:\n",
    "    next(f) # Skip the header row.\n",
    "    cur.copy_from(f, 'airports', sep=';')\n",
    "\n",
    "conn.commit()'''\n"
   ]
  },
  {
   "cell_type": "code",
   "execution_count": 38,
   "metadata": {
    "editable": true
   },
   "outputs": [],
   "source": [
    "# Load the Airport table\n",
    "\n",
    "for index, row in df_airport_codes.iterrows():\n",
    "    cur.execute(airport_insert, list(row.values))\n",
    "    conn.commit()"
   ]
  },
  {
   "cell_type": "markdown",
   "metadata": {
    "editable": true
   },
   "source": [
    "### 4.1.2. Insert data into Demographics table"
   ]
  },
  {
   "cell_type": "code",
   "execution_count": 39,
   "metadata": {
    "editable": true
   },
   "outputs": [],
   "source": [
    "# Load the Demographics table\n",
    "\n",
    "for index, row in df_demographics.iterrows():\n",
    "    cur.execute(demographic_insert, list(row.values))\n",
    "    conn.commit()"
   ]
  },
  {
   "cell_type": "markdown",
   "metadata": {
    "editable": true
   },
   "source": [
    "### 4.1.3. Insert data into Temperature table"
   ]
  },
  {
   "cell_type": "code",
   "execution_count": 40,
   "metadata": {
    "editable": true
   },
   "outputs": [],
   "source": [
    "# Load the Temperature table with the csv file, as this is faster compared to loading from data frame\n",
    "\n",
    "with open('data/usa_temperature.csv', 'r') as f:\n",
    "    next(f) # Skip the header row.\n",
    "    cur.copy_from(f, 'temperature', sep=';')\n",
    "\n",
    "conn.commit()"
   ]
  },
  {
   "cell_type": "code",
   "execution_count": null,
   "metadata": {
    "editable": true
   },
   "outputs": [],
   "source": [
    "'''for index, row in df_temp_us.iterrows():\n",
    "    #if index == 100:\n",
    "        #print(f\"index: {index}\")\n",
    "    cur.execute(temperature_insert, list(row.values))\n",
    "    conn.commit()\n",
    "'''    "
   ]
  },
  {
   "cell_type": "markdown",
   "metadata": {
    "editable": true
   },
   "source": [
    "### 4.1.4. Insert data into Immigration table"
   ]
  },
  {
   "cell_type": "code",
   "execution_count": 41,
   "metadata": {
    "editable": true
   },
   "outputs": [],
   "source": [
    "# Load the Immigrations table with the csv file, as this is faster compared to loading from data frame\n",
    "\n",
    "with open('data/i94_filtered.csv', 'r') as f:\n",
    "    next(f) # Skip the header row.\n",
    "    cur.copy_from(f, 'immigrations', sep=';')\n",
    "\n",
    "conn.commit()"
   ]
  },
  {
   "cell_type": "code",
   "execution_count": 24,
   "metadata": {
    "editable": true
   },
   "outputs": [
    {
     "data": {
      "text/plain": [
       "'for index, row in df_i94_filtered.iterrows():\\n    if index == 10000:\\n        print(row.values)\\n    cur.execute(immigration_insert, list(row.values))\\n    conn.commit()'"
      ]
     },
     "execution_count": 24,
     "metadata": {},
     "output_type": "execute_result"
    }
   ],
   "source": [
    "'''for index, row in df_i94_filtered.iterrows():\n",
    "    if index == 10000:\n",
    "        print(row.values)\n",
    "    cur.execute(immigration_insert, list(row.values))\n",
    "    conn.commit()'''"
   ]
  },
  {
   "cell_type": "markdown",
   "metadata": {
    "editable": true
   },
   "source": [
    "#### 4.2 Data Quality Checks\n",
    "Explain the data quality checks you'll perform to ensure the pipeline ran as expected. These could include:\n",
    " * Integrity constraints on the relational database (e.g., unique key, data type, etc.)\n",
    " * Unit tests for the scripts to ensure they are doing the right thing\n",
    " * Source/Count checks to ensure completeness\n",
    " \n",
    "Run Quality Checks"
   ]
  },
  {
   "cell_type": "code",
   "execution_count": 42,
   "metadata": {
    "editable": true
   },
   "outputs": [
    {
     "name": "stdout",
     "output_type": "stream",
     "text": [
      "airport_count: (550,)\n",
      "demographics_count: (2875,)\n",
      "immigrations_count: (2306754,)\n",
      "temperature_count: (661524,)\n"
     ]
    }
   ],
   "source": [
    "# Perform quality checks here\n",
    "\n",
    "cur.execute(\"SELECT COUNT(*) FROM airports\")\n",
    "airport_count = cur.fetchone()\n",
    "print(f\"airport_count: {airport_count}\")\n",
    "conn.commit()\n",
    "\n",
    "if cur.rowcount < 1:\n",
    "    print(\"No data found in table airports\")\n",
    "    \n",
    "cur.execute(\"SELECT COUNT(*) FROM demographics\")\n",
    "demographics_count = cur.fetchone()\n",
    "print(f\"demographics_count: {demographics_count}\")\n",
    "\n",
    "\n",
    "conn.commit()\n",
    "if cur.rowcount < 1:\n",
    "    print(\"No data found in table demographics\")\n",
    "    \n",
    "cur.execute(\"SELECT COUNT(*) FROM immigrations\")\n",
    "immigrations_count = cur.fetchone()\n",
    "print(f\"immigrations_count: {immigrations_count}\")\n",
    "\n",
    "conn.commit()\n",
    "if cur.rowcount < 1:\n",
    "    print(\"No data found in table immigrations\")\n",
    "    \n",
    "cur.execute(\"SELECT COUNT(*) FROM temperature\")\n",
    "temperature_count = cur.fetchone()\n",
    "print(f\"temperature_count: {temperature_count}\")\n",
    "conn.commit()\n",
    "if cur.rowcount < 1:\n",
    "    print(\"No data found in table temperature\")"
   ]
  },
  {
   "cell_type": "code",
   "execution_count": 43,
   "metadata": {
    "editable": true
   },
   "outputs": [],
   "source": [
    "conn.close()"
   ]
  },
  {
   "cell_type": "markdown",
   "metadata": {
    "editable": true
   },
   "source": [
    "#### 4.3 Data dictionary \n",
    "Create a data dictionary for your data model. For each field, provide a brief description of what the data is and where it came from. You can include the data dictionary in the notebook or in a separate file."
   ]
  },
  {
   "cell_type": "markdown",
   "metadata": {
    "editable": true
   },
   "source": [
    "#### Step 5: Complete Project Write Up\n",
    "* Clearly state the rationale for the choice of tools and technologies for the project.\n",
    "* Propose how often the data should be updated and why.\n",
    "* Write a description of how you would approach the problem differently under the following scenarios:\n",
    " * The data was increased by 100x.\n",
    "   * Use Spark to process the data efficiently in a distributed way e.g. with EMR.\n",
    " * The data populates a dashboard that must be updated on a daily basis by 7am every day.\n",
    "   * Use Airflow and create a DAG that performs the logic of the described pipeline.\n",
    " * The database needed to be accessed by 100+ people.\n",
    "   * Use RedShift to have the data stored in a way that it can efficiently be accessed by many people."
   ]
  },
  {
   "cell_type": "code",
   "execution_count": null,
   "metadata": {
    "editable": true
   },
   "outputs": [],
   "source": []
  }
 ],
 "metadata": {
  "kernelspec": {
   "display_name": "Python 3",
   "language": "python",
   "name": "python3"
  },
  "language_info": {
   "codemirror_mode": {
    "name": "ipython",
    "version": 3
   },
   "file_extension": ".py",
   "mimetype": "text/x-python",
   "name": "python",
   "nbconvert_exporter": "python",
   "pygments_lexer": "ipython3",
   "version": "3.6.3"
  }
 },
 "nbformat": 4,
 "nbformat_minor": 4
}
