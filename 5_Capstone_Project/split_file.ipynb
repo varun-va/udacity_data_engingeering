{
 "cells": [
  {
   "cell_type": "code",
   "execution_count": 6,
   "metadata": {
    "editable": true
   },
   "outputs": [],
   "source": [
    "import pandas as pd\n",
    "import os"
   ]
  },
  {
   "cell_type": "code",
   "execution_count": 12,
   "metadata": {
    "editable": true
   },
   "outputs": [],
   "source": [
    "def split_file(filename):\n",
    "    chunk_size = 1000000\n",
    "    batch_no = 1\n",
    "    \n",
    "    for chunk in pd.read_csv(filename+'.csv', chunksize = chunk_size):\n",
    "        chunk.to_csv(filename + str(batch_no)+'.csv', index = False)\n",
    "        batch_no += 1\n",
    "        \n",
    "    return 'Completed'"
   ]
  },
  {
   "cell_type": "code",
   "execution_count": 13,
   "metadata": {
    "editable": true
   },
   "outputs": [
    {
     "data": {
      "text/plain": [
       "'Completed'"
      ]
     },
     "execution_count": 13,
     "metadata": {},
     "output_type": "execute_result"
    }
   ],
   "source": [
    "base_filename = os.path.splitext('i94_filtered.csv')\n",
    "filename = base_filename[0]\n",
    "split_file(filename)"
   ]
  },
  {
   "cell_type": "code",
   "execution_count": 7,
   "metadata": {
    "editable": true
   },
   "outputs": [
    {
     "name": "stdout",
     "output_type": "stream",
     "text": [
      "i94_filtered\n"
     ]
    }
   ],
   "source": [
    "\n",
    "print(os.path.splitext(\"i94_filtered.csv\")[0])"
   ]
  },
  {
   "cell_type": "code",
   "execution_count": null,
   "metadata": {
    "editable": true
   },
   "outputs": [],
   "source": []
  }
 ],
 "metadata": {
  "kernelspec": {
   "display_name": "Python 3",
   "language": "python",
   "name": "python3"
  },
  "language_info": {
   "codemirror_mode": {
    "name": "ipython",
    "version": 3
   },
   "file_extension": ".py",
   "mimetype": "text/x-python",
   "name": "python",
   "nbconvert_exporter": "python",
   "pygments_lexer": "ipython3",
   "version": "3.6.3"
  }
 },
 "nbformat": 4,
 "nbformat_minor": 4
}
